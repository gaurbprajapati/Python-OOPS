{
 "metadata": {
  "language_info": {
   "codemirror_mode": {
    "name": "ipython",
    "version": 3
   },
   "file_extension": ".py",
   "mimetype": "text/x-python",
   "name": "python",
   "nbconvert_exporter": "python",
   "pygments_lexer": "ipython3",
   "version": "3.9.1"
  },
  "orig_nbformat": 2,
  "kernelspec": {
   "name": "python391jvsc74a57bd064ed1da1f4be2165bc54c2fe6afcce1ac11341b9a0bdef4e54b6a0ca9c1fd8c6",
   "display_name": "Python 3.9.1 64-bit"
  },
  "metadata": {
   "interpreter": {
    "hash": "64ed1da1f4be2165bc54c2fe6afcce1ac11341b9a0bdef4e54b6a0ca9c1fd8c6"
   }
  }
 },
 "nbformat": 4,
 "nbformat_minor": 2,
 "cells": [
  {
   "cell_type": "code",
   "execution_count": 1,
   "metadata": {},
   "outputs": [
    {
     "output_type": "stream",
     "name": "stdout",
     "text": [
      "Instence Method of son\nInstance Method of Father class\n2000\n"
     ]
    }
   ],
   "source": [
    "#first code \n",
    "#single inheritance\n",
    "\n",
    "class Father:\n",
    "    money=2000\n",
    "    def show(self):\n",
    "        print(\"Instance Method of Father class\")\n",
    "\n",
    "#making son class\n",
    "\n",
    "class Son(Father):\n",
    "    def disp(self):\n",
    "        print(\"Instence Method of son\")\n",
    "\n",
    "s=Son()\n",
    "s.disp()\n",
    "s.show()\n",
    "print(s.money)"
   ]
  },
  {
   "cell_type": "code",
   "execution_count": 2,
   "metadata": {},
   "outputs": [
    {
     "output_type": "stream",
     "name": "stdout",
     "text": [
      "Instance method of son class\nInstance Method of father class\n1000\n"
     ]
    }
   ],
   "source": [
    "#code two\n",
    "\n",
    "class Father: #this is parent class\n",
    "    def __init__(self,m):\n",
    "        self.m=m\n",
    "    def show(self):\n",
    "        print(\"Instance Method of father class\")\n",
    "\n",
    "#making child class\n",
    "\n",
    "class Son(Father):\n",
    "    def disp(self):\n",
    "        print(\"Instance method of son class\")\n",
    "\n",
    "s=Son(1000)\n",
    "s.disp()\n",
    "s.show()\n",
    "print(s.m)\n"
   ]
  },
  {
   "cell_type": "code",
   "execution_count": 55,
   "metadata": {},
   "outputs": [
    {
     "output_type": "stream",
     "name": "stdout",
     "text": [
      "OPTION ONE:-\n \nName of company :-Mahindra \nThe detail of Car:---\n--------------------------------------\nName of Modal:- Mahindra XUV700\nColor of car:- blue \nCost of car:- 1000000 rs \n-------------------------------------\nGeneral Feature of car:-\n'Power Steering','Power Windows Front','Anti Lock Braking System','Air Conditioner','Driver Airbag','Passenger Airbag'\n--------------------------------------\nEngine Detail of Car:-\nDisplacement(cc):- 1993, Brakes and steering:- Ventilated Disc, Body Type SUV  \n--------------------------------------\nFuel detail of car:-\n Fuel type:-petro\n---------------------------------------\nCapacity of Car\nSeating Capacity:- 7 , Number of DOors 4 \n--------------------------------------------------------------------------------\nThis is the best model for you and I hope you take good dession\n \n===============================================================================================================\nOPTION TWO\n\nName of company :-Honda \nThe details of car:-\nName of Modal:- Honda Jazz\nColor of car:- Gray \nCost of car:- 700000 Rs. \n-------------------------------------\nGeneral Feature of car:-\n'Power Steering','Power Windows Front','Anti Lock Braking System','Air Conditioner','Driver Airbag','Passenger Airbag'\n--------------------------------------\nEngine Detail of Car:-\nDisplacement(cc):- 1999, Brakes and steering:- Ventilated Disc, Body Type Jazz  \n--------------------------------------\nFuel detail of car:-\n Fuel type:-CNG\n---------------------------------------\nCapacity of Car\nSeating Capacity:- 5 , Number of DOors 4 \n--------------------------------------------------------------------------------\nThis is the best model for you and I hope you take good dession\n"
     ]
    }
   ],
   "source": [
    "class Car:\n",
    "    ##def __init__(self,Company):\n",
    "    #    self.Company=Company\n",
    "    def __init__(self,company,model,color,Fuel_Type,Engine_Displacement,Seating_Capacity,TransmissionType,Body_Type,brakes,doors,cost):\n",
    "        self.company=company\n",
    "        self.model=model\n",
    "        self.color=color\n",
    "        self.Fuel_Type=Fuel_Type\n",
    "        self.Engine_Displacement=Engine_Displacement\n",
    "        self.Seating_Capacity=Seating_Capacity\n",
    "        self.TransmissionType=TransmissionType\n",
    "        self.Body_Type=Body_Type\n",
    "        self.brakes=brakes\n",
    "        self.doors=doors\n",
    "        self.cost=cost\n",
    "        print(f\"Name of company :-{self.company} \")\n",
    "    def design(e):\n",
    "        print(f\"Name of Modal:- {e.model}\")\n",
    "        print(f\"Color of car:- {e.color} \")\n",
    "        print(f\"Cost of car:- {e.cost} \")\n",
    "        print(\"-------------------------------------\")\n",
    "\n",
    "    def genralFeature(d):\n",
    "        print(\"General Feature of car:-\")\n",
    "        print(\"'Power Steering','Power Windows Front','Anti Lock Braking System','Air Conditioner','Driver Airbag','Passenger Airbag'\")\n",
    "        print(\"--------------------------------------\")\n",
    "\n",
    "    def engineTransmission(a):\n",
    "        print(\"Engine Detail of Car:-\")\n",
    "        print(f\"Displacement(cc):- {a.Engine_Displacement}, Brakes and steering:- { a.brakes}, Body Type {a.Body_Type}  \")\n",
    "        print(\"--------------------------------------\")\n",
    "\n",
    "    def fuelPerformance(b):\n",
    "        print(\"Fuel detail of car:-\")\n",
    "        print(f\" Fuel type:-{b.Fuel_Type}\")\n",
    "        print(\"---------------------------------------\")\n",
    "\n",
    "    def dimensionsCapacity(c):\n",
    "        print(\"Capacity of Car\")\n",
    "        print(f\"Seating Capacity:- {c.Seating_Capacity} , Number of DOors { c.doors} \")\n",
    "        print(\"--------------------------------------------------------------------------------\")\n",
    "    def suggestion(f):\n",
    "        print(\"This is the best model for you and I hope you take good dession\")\n",
    "\n",
    "#child class one\n",
    "class Mahinda(Car):\n",
    "    def fun(self):\n",
    "        print(\"The detail of Car:---\")\n",
    "        print(\"--------------------------------------\")\n",
    "print(\"OPTION ONE:-\")\n",
    "print(\" \")\n",
    "o = Mahinda(\"Mahindra\",\"Mahindra XUV700\",\"blue\",\"petro\",\"1993\",\"7\",\"manual\",\"SUV\",\"Ventilated Disc\",4,\"500000 Rs.\")\n",
    "o.fun()\n",
    "o.design()\n",
    "o.genralFeature()\n",
    "o.engineTransmission()\n",
    "o.fuelPerformance()\n",
    "o.dimensionsCapacity()\n",
    "o.suggestion()\n",
    "print(\" \")\n",
    "print(\"===============================================================================================================\")\n",
    "#child class two\n",
    "print(\"OPTION TWO\")\n",
    "print(\"\")\n",
    "\n",
    "class Hondamoters(Car):\n",
    "    def fan(self):\n",
    "        print(\"The details of car:-\")\n",
    "ob = Hondamoters(\"Honda\",\"Honda Jazz\",\"Gray\",\"CNG\",1999,5,\"Manual\",\"Jazz\",\"Ventilated Disc\",4,\"700000 Rs.\")\n",
    "ob.fan()\n",
    "ob.design()\n",
    "ob.genralFeature()\n",
    "ob.engineTransmission()\n",
    "ob.fuelPerformance()\n",
    "ob.dimensionsCapacity()\n",
    "ob.suggestion()\n",
    "\n"
   ]
  },
  {
   "cell_type": "code",
   "execution_count": 35,
   "metadata": {},
   "outputs": [
    {
     "output_type": "error",
     "ename": "TypeError",
     "evalue": "__init__() takes 1 positional argument but 12 were given",
     "traceback": [
      "\u001b[1;31m---------------------------------------------------------------------------\u001b[0m",
      "\u001b[1;31mTypeError\u001b[0m                                 Traceback (most recent call last)",
      "\u001b[1;32m<ipython-input-35-57571e480959>\u001b[0m in \u001b[0;36m<module>\u001b[1;34m\u001b[0m\n\u001b[0;32m      2\u001b[0m     \u001b[1;32mdef\u001b[0m \u001b[0m__init__\u001b[0m\u001b[1;33m(\u001b[0m\u001b[0mself\u001b[0m\u001b[1;33m)\u001b[0m\u001b[1;33m:\u001b[0m\u001b[1;33m\u001b[0m\u001b[1;33m\u001b[0m\u001b[0m\n\u001b[0;32m      3\u001b[0m         \u001b[0mprint\u001b[0m\u001b[1;33m(\u001b[0m\u001b[1;34m\"The detail of Car:---\"\u001b[0m\u001b[1;33m)\u001b[0m\u001b[1;33m\u001b[0m\u001b[1;33m\u001b[0m\u001b[0m\n\u001b[1;32m----> 4\u001b[1;33m \u001b[0mobject\u001b[0m\u001b[1;33m=\u001b[0m \u001b[0mHoda\u001b[0m\u001b[1;33m(\u001b[0m\u001b[1;34m\"Mahindra\"\u001b[0m\u001b[1;33m,\u001b[0m\u001b[1;34m\"Mahindra XUV700\"\u001b[0m\u001b[1;33m,\u001b[0m\u001b[1;34m\"blue\"\u001b[0m\u001b[1;33m,\u001b[0m\u001b[1;34m\"petro\"\u001b[0m\u001b[1;33m,\u001b[0m\u001b[1;34m\"1993\"\u001b[0m\u001b[1;33m,\u001b[0m\u001b[1;34m\"7\"\u001b[0m\u001b[1;33m,\u001b[0m\u001b[1;34m\"manual\"\u001b[0m\u001b[1;33m,\u001b[0m\u001b[1;34m\"SUV\"\u001b[0m\u001b[1;33m,\u001b[0m\u001b[1;34m\"Ventilated Disc\"\u001b[0m\u001b[1;33m,\u001b[0m\u001b[1;36m4\u001b[0m\u001b[1;33m,\u001b[0m\u001b[1;36m1000000\u001b[0m\u001b[1;33m)\u001b[0m\u001b[1;33m\u001b[0m\u001b[1;33m\u001b[0m\u001b[0m\n\u001b[0m\u001b[0;32m      5\u001b[0m \u001b[0mobject\u001b[0m\u001b[1;33m.\u001b[0m\u001b[0mgenralFeature\u001b[0m\u001b[1;33m(\u001b[0m\u001b[1;33m)\u001b[0m\u001b[1;33m\u001b[0m\u001b[1;33m\u001b[0m\u001b[0m\n\u001b[0;32m      6\u001b[0m \u001b[0mobject\u001b[0m\u001b[1;33m.\u001b[0m\u001b[0mdesign\u001b[0m\u001b[1;33m(\u001b[0m\u001b[1;33m)\u001b[0m\u001b[1;33m\u001b[0m\u001b[1;33m\u001b[0m\u001b[0m\n",
      "\u001b[1;31mTypeError\u001b[0m: __init__() takes 1 positional argument but 12 were given"
     ]
    }
   ],
   "source": [
    "class Hoda(Car):\n",
    "    def __init__(self):\n",
    "        print(\"The detail of Car:---\")\n",
    "object= Hoda(\"Mahindra\",\"Mahindra XUV700\",\"blue\",\"petro\",\"1993\",\"7\",\"manual\",\"SUV\",\"Ventilated Disc\",4,1000000)\n",
    "object.genralFeature()\n",
    "object.design()"
   ]
  },
  {
   "cell_type": "code",
   "execution_count": 6,
   "metadata": {},
   "outputs": [
    {
     "output_type": "stream",
     "name": "stdout",
     "text": [
      "2\n"
     ]
    }
   ],
   "source": [
    "class name:\n",
    "    def __init__(s,n):\n",
    "        s.n=n\n",
    "        #print(s.n)\n",
    "    def hello(self):\n",
    "        print(self.n)\n",
    "a=name(2)\n",
    "a.hello()\n",
    "\n"
   ]
  },
  {
   "cell_type": "code",
   "execution_count": null,
   "metadata": {},
   "outputs": [],
   "source": [
    "'''\n",
    "object= Car(\"Mahindra\",\"Mahindra XUV700\",\"blac\",\"petro\",\"1999\",\"7\",\"manual\",\"SUV\",\"Ventilated Disc\",\"5\",1000000)\n",
    "object.design()\n",
    "object.genralFeature()\n",
    "object.engineTransmission()\n",
    "object.fuelPerformance()\n",
    "object.dimensionsCapacity()\n",
    "'''"
   ]
  },
  {
   "cell_type": "code",
   "execution_count": 2,
   "metadata": {},
   "outputs": [
    {
     "output_type": "stream",
     "name": "stdout",
     "text": [
      "[2, 4, 6, 8]\n[1, 3, 5, 7, 9]\n"
     ]
    }
   ],
   "source": [
    "#EVeb and odd number list\n",
    "\n",
    "class Number:\n",
    "    even=[]\n",
    "    odd=[]\n",
    "    def __init__(self,num1,num2):\n",
    "        self.num1=num1\n",
    "        self.num2=num2\n",
    "        for i in range (self.num1,self.num2):\n",
    "            if i%2==0:\n",
    "                Number.even.append(i)\n",
    "            else:\n",
    "                Number.odd.append(i)\n",
    "   \n",
    "a=Number(1,10)\n",
    "print(Number.even)\n",
    "print(Number.odd)"
   ]
  },
  {
   "cell_type": "code",
   "execution_count": 1,
   "metadata": {},
   "outputs": [
    {
     "output_type": "stream",
     "name": "stdout",
     "text": [
      "6\n"
     ]
    }
   ],
   "source": [
    "#sum of digit\n",
    "\n",
    "\n",
    "class digit:\n",
    "    def __init__(self,number):\n",
    "        self.number=number\n",
    "\n",
    "    def sumOfdigits(x):\n",
    "        a=x.number\n",
    "        sum=0\n",
    "        while a!=0:\n",
    "            temp=a%10\n",
    "            sum=sum+temp\n",
    "            a=a//10\n",
    "        print(sum)  \n",
    "o = digit(123)\n",
    "o.sumOfdigits()"
   ]
  },
  {
   "cell_type": "code",
   "execution_count": 3,
   "metadata": {},
   "outputs": [
    {
     "output_type": "stream",
     "name": "stdout",
     "text": [
      "2\nNone\n"
     ]
    }
   ],
   "source": [
    "\n",
    "#program to find the factorial of number\n",
    "class factorial:\n",
    "    def __init__(self,n):\n",
    "        self.n=n\n",
    "    def fact(x):\n",
    "        a=x.n\n",
    "        #print(a)\n",
    "        def fun(a):\n",
    "            if a==0 or a==1:\n",
    "                f=1\n",
    "            f=1\n",
    "            for i in range (1,a+1):\n",
    "                f=f*i\n",
    "            print(f)\n",
    "        print(fun(a))\n",
    "        \n",
    "b = factorial(int(input(\"enter a number:-\")))\n",
    "b.fact()"
   ]
  },
  {
   "cell_type": "code",
   "execution_count": null,
   "metadata": {},
   "outputs": [],
   "source": []
  }
 ]
}