{
 "metadata": {
  "language_info": {
   "codemirror_mode": {
    "name": "ipython",
    "version": 3
   },
   "file_extension": ".py",
   "mimetype": "text/x-python",
   "name": "python",
   "nbconvert_exporter": "python",
   "pygments_lexer": "ipython3",
   "version": "3.9.1"
  },
  "orig_nbformat": 2,
  "kernelspec": {
   "name": "python391jvsc74a57bd064ed1da1f4be2165bc54c2fe6afcce1ac11341b9a0bdef4e54b6a0ca9c1fd8c6",
   "display_name": "Python 3.9.1 64-bit"
  },
  "metadata": {
   "interpreter": {
    "hash": "64ed1da1f4be2165bc54c2fe6afcce1ac11341b9a0bdef4e54b6a0ca9c1fd8c6"
   }
  }
 },
 "nbformat": 4,
 "nbformat_minor": 2,
 "cells": [
  {
   "cell_type": "code",
   "execution_count": 6,
   "metadata": {},
   "outputs": [
    {
     "output_type": "stream",
     "name": "stdout",
     "text": [
      "5\n<class '__main__.Myclass'>\n<class 'int'>\n"
     ]
    }
   ],
   "source": [
    "class Myclass:\n",
    "    x=5\n",
    "\n",
    "objec=Myclass()\n",
    "print(objec.x)\n",
    "print(Myclass)\n",
    "print(type(objec.x))\n"
   ]
  },
  {
   "cell_type": "code",
   "execution_count": 13,
   "metadata": {},
   "outputs": [
    {
     "output_type": "error",
     "ename": "AttributeError",
     "evalue": "'person' object has no attribute 'person'",
     "traceback": [
      "\u001b[1;31m---------------------------------------------------------------------------\u001b[0m",
      "\u001b[1;31mAttributeError\u001b[0m                            Traceback (most recent call last)",
      "\u001b[1;32m<ipython-input-13-60eee016e812>\u001b[0m in \u001b[0;36m<module>\u001b[1;34m\u001b[0m\n\u001b[0;32m     10\u001b[0m \u001b[1;31m#a= object2.myafun()\u001b[0m\u001b[1;33m\u001b[0m\u001b[1;33m\u001b[0m\u001b[1;33m\u001b[0m\u001b[0m\n\u001b[0;32m     11\u001b[0m \u001b[1;31m#print(a)\u001b[0m\u001b[1;33m\u001b[0m\u001b[1;33m\u001b[0m\u001b[1;33m\u001b[0m\u001b[0m\n\u001b[1;32m---> 12\u001b[1;33m \u001b[0mobject2\u001b[0m\u001b[1;33m.\u001b[0m\u001b[0mperson\u001b[0m\u001b[1;33m(\u001b[0m\u001b[1;33m)\u001b[0m\u001b[1;33m\u001b[0m\u001b[1;33m\u001b[0m\u001b[0m\n\u001b[0m\u001b[0;32m     13\u001b[0m \u001b[0mprint\u001b[0m\u001b[1;33m(\u001b[0m\u001b[0mobject2\u001b[0m\u001b[1;33m.\u001b[0m\u001b[0mmyafun\u001b[0m\u001b[1;33m(\u001b[0m\u001b[1;33m)\u001b[0m\u001b[1;33m)\u001b[0m\u001b[1;33m\u001b[0m\u001b[1;33m\u001b[0m\u001b[0m\n\u001b[0;32m     14\u001b[0m \u001b[1;33m\u001b[0m\u001b[0m\n",
      "\u001b[1;31mAttributeError\u001b[0m: 'person' object has no attribute 'person'"
     ]
    }
   ],
   "source": [
    "class person:\n",
    "    def myafun(abc):\n",
    "        print(F\"name and age is {abc.name} and {abc.age} \")\n",
    "\n",
    "\n",
    "object2 = person()            \n",
    "\n",
    "object2.name=\"gaurav\"\n",
    "object2.age=18\n",
    "#a= object2.myafun()\n",
    "#print(a)\n",
    "object2.person()\n",
    "print(object2.myafun())\n",
    "\n",
    "'''\n",
    "o.name=10\n",
    "o.age=\"hau\"\n",
    "'''\n",
    "#print(o.myafun())\n"
   ]
  },
  {
   "cell_type": "code",
   "execution_count": 13,
   "metadata": {},
   "outputs": [
    {
     "output_type": "stream",
     "name": "stdout",
     "text": [
      "detail of person\nram 30 300330\n"
     ]
    }
   ],
   "source": [
    "class gAurb:\n",
    "    def __init__(self,name,age,salary):\n",
    "        self.name=name\n",
    "        self.age=age\n",
    "        self.salary=salary\n",
    "        print(\"detail of person\")\n",
    "ob = gAurb('ram',30,300330)\n",
    "\n",
    "\n",
    "\n",
    "print(ob.name,ob.age,ob.salary)"
   ]
  },
  {
   "cell_type": "code",
   "execution_count": 15,
   "metadata": {},
   "outputs": [
    {
     "output_type": "stream",
     "name": "stdout",
     "text": [
      "hello my name is gaurav and 18 \n"
     ]
    }
   ],
   "source": [
    "class person:\n",
    "    def __init__(my_name,name,age):\n",
    "        my_name.name=name\n",
    "        my_name.age=age\n",
    "\n",
    "    def myfun(abc):\n",
    "        print(f\"hello my name is {abc.name} and {abc.age} \")\n",
    "\n",
    "object1 = person(\"gaurav\",18)\n",
    "\n",
    "object1.myfun()"
   ]
  },
  {
   "cell_type": "code",
   "execution_count": 12,
   "metadata": {},
   "outputs": [
    {
     "output_type": "stream",
     "name": "stdout",
     "text": [
      "hello 20gb phone\nhello 20gb phone\n"
     ]
    }
   ],
   "source": [
    "class computer:\n",
    "    def config(self):\n",
    "        print(\"hello 20gb phone\")\n",
    "com1 = computer()\n",
    "\n",
    "'''this is two method eo call the fuction'''\n",
    "computer.config(com1)\n",
    "com1.config()"
   ]
  },
  {
   "cell_type": "code",
   "execution_count": 21,
   "metadata": {},
   "outputs": [
    {
     "output_type": "stream",
     "name": "stdout",
     "text": [
      "[2, 4, 6, 8] [1, 3, 5, 7, 9]\n"
     ]
    }
   ],
   "source": [
    "class Number:\n",
    "    \n",
    "    def __init__(self,num1,num2):\n",
    "        self.num1=num1\n",
    "        self.num2=num2\n",
    "    def even(s):\n",
    "        even=[]\n",
    "        odd=[]\n",
    "        for i in range (s.num1,s.num2):\n",
    "            if i%2==0:\n",
    "                even.append(i)\n",
    "            else:\n",
    "                odd.append(i)\n",
    "\n",
    "        print(even,odd)\n",
    "a=Number(1,10)\n",
    "a.even()"
   ]
  },
  {
   "cell_type": "code",
   "execution_count": 20,
   "metadata": {},
   "outputs": [
    {
     "output_type": "stream",
     "name": "stdout",
     "text": [
      "[2, 4, 6, 8]\n[1, 3, 5, 7, 9]\n"
     ]
    }
   ],
   "source": [
    "class Number:\n",
    "    even=[]\n",
    "    odd=[]\n",
    "    def __init__(self,num1,num2):\n",
    "        self.num1=num1\n",
    "        self.num2=num2\n",
    "        for i in range (self.num1,self.num2):\n",
    "            if i%2==0:\n",
    "                Number.even.append(i)\n",
    "            else:\n",
    "                Number.odd.append(i)\n",
    "   \n",
    "a=Number(1,10)\n",
    "print(Number.even)\n",
    "print(Number.odd)\n"
   ]
  },
  {
   "cell_type": "code",
   "execution_count": 22,
   "metadata": {},
   "outputs": [
    {
     "output_type": "stream",
     "name": "stdout",
     "text": [
      "None\nNone\nNone\nNone\nNone\nNone\nNone\nNone\nNone\nNone\nNone\nNone\nNone\nNone\nNone\nNone\nNone\nNone\nNone\nNone\nNone\nNone\nNone\nNone\nNone\nNone\nNone\n"
     ]
    },
    {
     "output_type": "error",
     "ename": "TypeError",
     "evalue": "'list' object is not callable",
     "traceback": [
      "\u001b[1;31m---------------------------------------------------------------------------\u001b[0m",
      "\u001b[1;31mTypeError\u001b[0m                                 Traceback (most recent call last)",
      "\u001b[1;32m<ipython-input-22-4ba1530f3920>\u001b[0m in \u001b[0;36m<module>\u001b[1;34m\u001b[0m\n\u001b[0;32m     12\u001b[0m \u001b[0ma\u001b[0m\u001b[1;33m=\u001b[0m\u001b[0mNumber\u001b[0m\u001b[1;33m(\u001b[0m\u001b[1;36m3\u001b[0m\u001b[1;33m,\u001b[0m\u001b[1;36m30\u001b[0m\u001b[1;33m)\u001b[0m\u001b[1;33m\u001b[0m\u001b[1;33m\u001b[0m\u001b[0m\n\u001b[0;32m     13\u001b[0m \u001b[1;33m\u001b[0m\u001b[0m\n\u001b[1;32m---> 14\u001b[1;33m \u001b[0ma\u001b[0m\u001b[1;33m.\u001b[0m\u001b[0meven\u001b[0m\u001b[1;33m(\u001b[0m\u001b[1;33m)\u001b[0m\u001b[1;33m\u001b[0m\u001b[1;33m\u001b[0m\u001b[0m\n\u001b[0m",
      "\u001b[1;31mTypeError\u001b[0m: 'list' object is not callable"
     ]
    }
   ],
   "source": [
    "class Number:\n",
    "    even=[]\n",
    "    odd=[]\n",
    "    def __init__(self,num1,num2):\n",
    "        self.num1=num1\n",
    "        self.num2=num2\n",
    "        for i in range (self.num1,self.num2):\n",
    "            if i%2==0:\n",
    "                print(Number.even.append(i))\n",
    "            else:\n",
    "                print(Number.odd.append(i))\n",
    "a=Number(3,30)\n",
    "\n",
    "a.even()"
   ]
  },
  {
   "cell_type": "code",
   "execution_count": 28,
   "metadata": {},
   "outputs": [
    {
     "output_type": "stream",
     "name": "stdout",
     "text": [
      "5 10\n\n*\n**\n***\n****\n"
     ]
    }
   ],
   "source": [
    "class patter:\n",
    "    def __init__(self,a,b):\n",
    "        self.a=a\n",
    "        self.b=b\n",
    "    def outPut(x):\n",
    "        print(x.a,x.b)\n",
    "        for i in range (x.a):\n",
    "            print(\"*\"*i)\n",
    "\n",
    "o=patter(5,10)\n",
    "o.outPut()\n"
   ]
  },
  {
   "cell_type": "code",
   "execution_count": 9,
   "metadata": {},
   "outputs": [
    {
     "output_type": "stream",
     "name": "stdout",
     "text": [
      "6\n"
     ]
    }
   ],
   "source": [
    "##program to find the sum of digits\n",
    "\n",
    "\n",
    "\n",
    "class digit:\n",
    "    def __init__(self,number):\n",
    "        self.number=number\n",
    "\n",
    "    def sumOfdigits(x):\n",
    "        a=x.number\n",
    "        sum=0\n",
    "        while a!=0:\n",
    "            temp=a%10\n",
    "            sum=sum+temp\n",
    "            a=a//10\n",
    "        print(sum)  \n",
    "o = digit(123)\n",
    "o.sumOfdigits()"
   ]
  },
  {
   "cell_type": "code",
   "execution_count": 25,
   "metadata": {},
   "outputs": [
    {
     "output_type": "stream",
     "name": "stdout",
     "text": [
      "120\n"
     ]
    }
   ],
   "source": [
    "#program to find the factorial of number\n",
    "\n",
    "class factorial:\n",
    "    def __init__(self,n):\n",
    "        self.n=n\n",
    "    def fact(x):\n",
    "        a=x.n\n",
    "        #print(a)\n",
    "        def fun():\n",
    "            if a==0 or a==1:\n",
    "                f=1\n",
    "            f=1\n",
    "            for i in range (1,a+1):\n",
    "                f=f*i\n",
    "            print(f)\n",
    "        fun()\n",
    "b = factorial(5)\n",
    "b.fact()\n"
   ]
  },
  {
   "cell_type": "code",
   "execution_count": 1,
   "metadata": {},
   "outputs": [
    {
     "output_type": "stream",
     "name": "stdout",
     "text": [
      "25852016738884976640000\nNone\n"
     ]
    }
   ],
   "source": [
    "#program to find the factorial of number\n",
    "class factorial:\n",
    "    def __init__(self,n):\n",
    "        self.n=n\n",
    "    def fact(x):\n",
    "        a=x.n\n",
    "        #print(a)\n",
    "        def fun(a):\n",
    "            if a==0 or a==1:\n",
    "                f=1\n",
    "            f=1\n",
    "            for i in range (1,a+1):\n",
    "                f=f*i\n",
    "            print(f)\n",
    "        print(fun(a))\n",
    "        \n",
    "b = factorial(int(input(\"enter a number:-\")))\n",
    "b.fact()"
   ]
  },
  {
   "cell_type": "code",
   "execution_count": 15,
   "metadata": {},
   "outputs": [
    {
     "output_type": "stream",
     "name": "stdout",
     "text": [
      "120\nNone\n"
     ]
    }
   ],
   "source": [
    "def f(n):\n",
    "    #return n\n",
    "    def ft():\n",
    "        if n==0:\n",
    "            fact=1\n",
    "        fact=1\n",
    "        for i in range (1,n+1):\n",
    "            fact=fact*i\n",
    "        print(fact)\n",
    "    ft()\n",
    "n=5\n",
    "print(f(n))"
   ]
  },
  {
   "cell_type": "code",
   "execution_count": 24,
   "metadata": {},
   "outputs": [
    {
     "output_type": "stream",
     "name": "stdout",
     "text": [
      "gaurav\nNone\n"
     ]
    }
   ],
   "source": [
    "\n",
    "# Python program to illustrate \n",
    "# nested functions \n",
    "def outerFunction(text): \n",
    "    text = text \n",
    "   # return text\n",
    "    \n",
    "    def innerFunction(): \n",
    "        print(text) \n",
    "    \n",
    "    innerFunction() \n",
    "print(outerFunction(\"gaurav\"))\n"
   ]
  },
  {
   "cell_type": "code",
   "execution_count": 22,
   "metadata": {},
   "outputs": [
    {
     "output_type": "stream",
     "name": "stdout",
     "text": [
      "30\n60\n"
     ]
    }
   ],
   "source": [
    "class computer:\n",
    "    def __init__(self):\n",
    "        self.name=\"gaurav\"\n",
    "        self.age=29\n",
    "    def update(self):\n",
    "        self.age=30\n",
    "c1=computer()\n",
    "c2=computer()\n",
    "c1.name=\"gaur\"\n",
    "c1.age=10\n",
    "c2.age=60\n",
    "c1.update()\n",
    "print(c1.age)\n",
    "\n",
    "#c2.update()\n",
    "print(c2.age)\n"
   ]
  },
  {
   "cell_type": "code",
   "execution_count": 3,
   "metadata": {},
   "outputs": [
    {
     "output_type": "stream",
     "name": "stdout",
     "text": [
      "[5, 4, 4, 1, 5, 4]\n5\n"
     ]
    }
   ],
   "source": [
    "    # Write your code here\n",
    "    a=[1 ,2, 2, 3, 1, 2]\n",
    "    max_sub=[]\n",
    "    for i in a:\n",
    "        picked_l.append(.count(i)+a.count(i+1))\n",
    "    print(picked_l)\n",
    "    print(max(picked_l))"
   ]
  },
  {
   "cell_type": "code",
   "execution_count": null,
   "metadata": {},
   "outputs": [],
   "source": []
  }
 ]
}