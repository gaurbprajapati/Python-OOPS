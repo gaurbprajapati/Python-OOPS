{
 "cells": [
  {
   "cell_type": "code",
   "execution_count": 3,
   "metadata": {},
   "outputs": [
    {
     "name": "stdout",
     "output_type": "stream",
     "text": [
      "Instence Method of son\n",
      "Instance Method of Father class\n",
      "2000\n"
     ]
    }
   ],
   "source": [
    "\n",
    "#single inheritance\n",
    "\n",
    "class Father:\n",
    "    money=2000\n",
    "    def show(self):\n",
    "        print(\"Instance Method of Father class\")\n",
    "\n",
    "#making son class\n",
    "\n",
    "class Son(Father):\n",
    "    def disp(self):\n",
    "        print(\"Instence Method of son\")\n",
    "\n",
    "s=Son()\n",
    "s.disp()\n",
    "s.show()\n",
    "print(s.money)"
   ]
  },
  {
   "cell_type": "code",
   "execution_count": 4,
   "metadata": {},
   "outputs": [
    {
     "name": "stdout",
     "output_type": "stream",
     "text": [
      "Instance method of son class\n",
      "Instance Method of father class\n",
      "1000\n"
     ]
    }
   ],
   "source": [
    "#code two\n",
    "\n",
    "class Father: #this is parent class\n",
    "    def __init__(self,m):\n",
    "        self.m=m\n",
    "    def show(self):\n",
    "        print(\"Instance Method of father class\")\n",
    "\n",
    "#making child class\n",
    "\n",
    "class Son(Father):\n",
    "    def disp(self):\n",
    "        print(\"Instance method of son class\")\n",
    "\n",
    "s=Son(1000)\n",
    "s.disp()\n",
    "s.show()\n",
    "print(s.m)\n"
   ]
  },
  {
   "cell_type": "code",
   "execution_count": 5,
   "metadata": {},
   "outputs": [
    {
     "name": "stdout",
     "output_type": "stream",
     "text": [
      "OPTION ONE:-\n",
      " \n",
      "Name of company :-Mahindra \n",
      "The detail of Car:---\n",
      "--------------------------------------\n",
      "Name of Modal:- Mahindra XUV700\n",
      "Color of car:- blue \n",
      "Cost of car:- 500000 Rs. \n",
      "-------------------------------------\n",
      "General Feature of car:-\n",
      "'Power Steering','Power Windows Front','Anti Lock Braking System','Air Conditioner','Driver Airbag','Passenger Airbag'\n",
      "--------------------------------------\n",
      "Engine Detail of Car:-\n",
      "Displacement(cc):- 1993, Brakes and steering:- Ventilated Disc, Body Type SUV  \n",
      "--------------------------------------\n",
      "Fuel detail of car:-\n",
      " Fuel type:-petro\n",
      "---------------------------------------\n",
      "Capacity of Car\n",
      "Seating Capacity:- 7 , Number of DOors 4 \n",
      "--------------------------------------------------------------------------------\n",
      "This is the best model for you and I hope you take good dession\n",
      " \n",
      "===============================================================================================================\n",
      "OPTION TWO\n",
      "\n",
      "Name of company :-Honda \n",
      "The details of car:-\n",
      "Name of Modal:- Honda Jazz\n",
      "Color of car:- Gray \n",
      "Cost of car:- 700000 Rs. \n",
      "-------------------------------------\n",
      "General Feature of car:-\n",
      "'Power Steering','Power Windows Front','Anti Lock Braking System','Air Conditioner','Driver Airbag','Passenger Airbag'\n",
      "--------------------------------------\n",
      "Engine Detail of Car:-\n",
      "Displacement(cc):- 1999, Brakes and steering:- Ventilated Disc, Body Type Jazz  \n",
      "--------------------------------------\n",
      "Fuel detail of car:-\n",
      " Fuel type:-CNG\n",
      "---------------------------------------\n",
      "Capacity of Car\n",
      "Seating Capacity:- 5 , Number of DOors 4 \n",
      "--------------------------------------------------------------------------------\n",
      "This is the best model for you and I hope you take good dession\n"
     ]
    }
   ],
   "source": [
    "class Car:\n",
    "    ##def __init__(self,Company):\n",
    "    #    self.Company=Company\n",
    "    def __init__(self,company,model,color,Fuel_Type,Engine_Displacement,Seating_Capacity,TransmissionType,Body_Type,brakes,doors,cost):\n",
    "        self.company=company\n",
    "        self.model=model\n",
    "        self.color=color\n",
    "        self.Fuel_Type=Fuel_Type\n",
    "        self.Engine_Displacement=Engine_Displacement\n",
    "        self.Seating_Capacity=Seating_Capacity\n",
    "        self.TransmissionType=TransmissionType\n",
    "        self.Body_Type=Body_Type\n",
    "        self.brakes=brakes\n",
    "        self.doors=doors\n",
    "        self.cost=cost\n",
    "        print(f\"Name of company :-{self.company} \")\n",
    "    def design(e):\n",
    "        print(f\"Name of Modal:- {e.model}\")\n",
    "        print(f\"Color of car:- {e.color} \")\n",
    "        print(f\"Cost of car:- {e.cost} \")\n",
    "        print(\"-------------------------------------\")\n",
    "\n",
    "    def genralFeature(d):\n",
    "        print(\"General Feature of car:-\")\n",
    "        print(\"'Power Steering','Power Windows Front','Anti Lock Braking System','Air Conditioner','Driver Airbag','Passenger Airbag'\")\n",
    "        print(\"--------------------------------------\")\n",
    "\n",
    "    def engineTransmission(a):\n",
    "        print(\"Engine Detail of Car:-\")\n",
    "        print(f\"Displacement(cc):- {a.Engine_Displacement}, Brakes and steering:- { a.brakes}, Body Type {a.Body_Type}  \")\n",
    "        print(\"--------------------------------------\")\n",
    "\n",
    "    def fuelPerformance(b):\n",
    "        print(\"Fuel detail of car:-\")\n",
    "        print(f\" Fuel type:-{b.Fuel_Type}\")\n",
    "        print(\"---------------------------------------\")\n",
    "\n",
    "    def dimensionsCapacity(c):\n",
    "        print(\"Capacity of Car\")\n",
    "        print(f\"Seating Capacity:- {c.Seating_Capacity} , Number of DOors { c.doors} \")\n",
    "        print(\"--------------------------------------------------------------------------------\")\n",
    "    def suggestion(f):\n",
    "        print(\"This is the best model for you and I hope you take good dession\")\n",
    "\n",
    "#child class one\n",
    "class Mahinda(Car):\n",
    "    def fun(self):\n",
    "        print(\"The detail of Car:---\")\n",
    "        print(\"--------------------------------------\")\n",
    "print(\"OPTION ONE:-\")\n",
    "print(\" \")\n",
    "o = Mahinda(\"Mahindra\",\"Mahindra XUV700\",\"blue\",\"petro\",\"1993\",\"7\",\"manual\",\"SUV\",\"Ventilated Disc\",4,\"500000 Rs.\")\n",
    "o.fun()\n",
    "o.design()\n",
    "o.genralFeature()\n",
    "o.engineTransmission()\n",
    "o.fuelPerformance()\n",
    "o.dimensionsCapacity()\n",
    "o.suggestion()\n",
    "print(\" \")\n",
    "print(\"===============================================================================================================\")\n",
    "#child class two\n",
    "print(\"OPTION TWO\")\n",
    "print(\"\")\n",
    "\n",
    "class Hondamoters(Car):\n",
    "    def fan(self):\n",
    "        print(\"The details of car:-\")\n",
    "ob = Hondamoters(\"Honda\",\"Honda Jazz\",\"Gray\",\"CNG\",1999,5,\"Manual\",\"Jazz\",\"Ventilated Disc\",4,\"700000 Rs.\")\n",
    "ob.fan()\n",
    "ob.design()\n",
    "ob.genralFeature()\n",
    "ob.engineTransmission()\n",
    "ob.fuelPerformance()\n",
    "ob.dimensionsCapacity()\n",
    "ob.suggestion()\n",
    "\n"
   ]
  },
  {
   "cell_type": "code",
   "execution_count": 6,
   "metadata": {},
   "outputs": [
    {
     "name": "stdout",
     "output_type": "stream",
     "text": [
      "SON class constructor\n",
      "Instance Method of fon class\n",
      "Instance Method of Father class.\n"
     ]
    }
   ],
   "source": [
    "'''\n",
    "\n",
    "ise code me father class ka constructer call nhi ho raha \"son\"\n",
    "\n",
    "class me read next code to find answer how it call\n",
    "\n",
    "'''\n",
    "\n",
    "\n",
    "class Father:\n",
    "    def __init__(self):\n",
    "        self.money=1000\n",
    "        print(\"Constructor of father class.\")\n",
    "        print(self)\n",
    "    def show(self):\n",
    "        print(\"Instance Method of Father class.\")\n",
    "\n",
    "#child class\n",
    "\n",
    "class Son(Father):\n",
    "    def __init__(self):\n",
    "        print(\"SON class constructor\")\n",
    "    def disp(s):\n",
    "        print(\"Instance Method of fon class\")\n",
    "\n",
    "s=Son()\n",
    "s.disp()\n",
    "s.show()"
   ]
  },
  {
   "cell_type": "code",
   "execution_count": 7,
   "metadata": {},
   "outputs": [
    {
     "name": "stdout",
     "output_type": "stream",
     "text": [
      "Constructor of father class.\n",
      "<__main__.Son object at 0x000001787DB59370>\n",
      "SON class constructor\n"
     ]
    }
   ],
   "source": [
    "'''\n",
    "USE:-\n",
    "\n",
    "super().__init__() #base class constructor in calling\n",
    "\n",
    "'''\n",
    "\n",
    "class Father:\n",
    "    def __init__(self):\n",
    "       # self.money=1000\n",
    "        print(\"Constructor of father class.\")\n",
    "        print(self)\n",
    "    def show(self):\n",
    "        print(\"Instance Method of Father class.\")\n",
    "\n",
    "#child class\n",
    "\n",
    "class Son(Father):\n",
    "    def __init__(self):\n",
    "        super().__init__()             #base class constructor in calling                    \n",
    "        print(\"SON class constructor\")\n",
    "        \n",
    "    def disp(s):\n",
    "        print(\"Instance Method of fon class\")\n",
    "\n",
    "o=Son()\n"
   ]
  },
  {
   "cell_type": "code",
   "execution_count": 8,
   "metadata": {},
   "outputs": [
    {
     "name": "stdout",
     "output_type": "stream",
     "text": [
      "Instance Method of child class\n",
      "Instance Method of Father class.\n",
      "Static method of father class.\n",
      "Class method of father class 1000\n"
     ]
    }
   ],
   "source": [
    "#example anther single Inheritance\n",
    "\n",
    "class Father:\n",
    "    money=1000\n",
    "    def show(self):\n",
    "      \n",
    "        print(\"Instance Method of Father class.\")\n",
    "    def merg(s):\n",
    "        print(s.num)\n",
    "\n",
    "        \n",
    "    @classmethod\n",
    "    def showmoney(cls):\n",
    "        print(\"Class method of father class\",cls.money)\n",
    "    \n",
    "    @staticmethod\n",
    "    def stat():\n",
    "        a=10\n",
    "        print(\"Static method of father class.\")\n",
    "\n",
    "class Son(Father):\n",
    "    def disp(self):\n",
    "        print(\"Instance Method of child class\")\n",
    "s=Son()\n",
    "s.disp()\n",
    "s.show()\n",
    "s.stat()\n",
    "s.showmoney()\n",
    "\n"
   ]
  },
  {
   "cell_type": "code",
   "execution_count": 9,
   "metadata": {},
   "outputs": [
    {
     "name": "stdout",
     "output_type": "stream",
     "text": [
      "method of father class.\n",
      "instance method of child class.\n",
      "class method of grand son class\n"
     ]
    }
   ],
   "source": [
    "'''\n",
    "\n",
    "MULTI---LEVEL INHERITANCE\n",
    "\n",
    "'''\n",
    "\n",
    "class Father:\n",
    "    def showF(self):\n",
    "        print(\"method of father class.\")\n",
    "    \n",
    "#making son classs\n",
    "\n",
    "class son(Father):\n",
    "    def dispS(self):\n",
    "        print(\"instance method of child class.\")\n",
    "\n",
    "#making grandchild class\n",
    "\n",
    "class grandson(son):\n",
    "    def showG(s):\n",
    "        print(\"class method of grand son class\")\n",
    "\n",
    "#calling grandson class \n",
    "\n",
    "s=grandson()\n",
    "s.showF()\n",
    "s.dispS()\n",
    "s.showG()"
   ]
  },
  {
   "cell_type": "code",
   "execution_count": 10,
   "metadata": {},
   "outputs": [
    {
     "name": "stdout",
     "output_type": "stream",
     "text": [
      "class metds of father class\n",
      "Constuctor of son class\n",
      "Constructor of grandson class.\n"
     ]
    }
   ],
   "source": [
    "\n",
    "class Father:\n",
    "    def __init__(self):\n",
    "        print(\"class metds of father class\")\n",
    "    def showF(self):\n",
    "        print(\"method of father class.\")\n",
    "    \n",
    "#making son classs\n",
    "\n",
    "class son(Father):\n",
    "    def __init__(self):\n",
    "        super().__init__()\n",
    "        print(\"Constuctor of son class\")\n",
    "    def dispS(self):\n",
    "        print(\"instance method of child class.\")\n",
    "\n",
    "#making grandchild class\n",
    "\n",
    "class grandson(son):\n",
    "    def __init__(self):\n",
    "        super().__init__()\n",
    "        print(\"Constructor of grandson class.\")\n",
    "    def showG(s):\n",
    "        print(\"class method of grand son class\")\n",
    "\n",
    "#calling grandson class \n",
    "\n",
    "g=grandson()"
   ]
  },
  {
   "cell_type": "code",
   "execution_count": 11,
   "metadata": {},
   "outputs": [],
   "source": [
    "'''\n",
    "\n",
    "Hierarchical Inheritance\n",
    "\n",
    "\n",
    "'''\n",
    "#parent class\n",
    "\n",
    "class father:\n",
    "    def show(self):\n",
    "        print(\"instance method of father class\")\n",
    "#son class\n",
    "\n",
    "class son(father):\n",
    "    def disp(self):\n",
    "        print(\"instance method of son class\")\n",
    "\n",
    "#doughter class\n",
    "\n",
    "class doughter(father):\n",
    "    def show(s):\n",
    "        prinnt(\"class method of doughter class.\")\n",
    "\n",
    "d = father()\n"
   ]
  },
  {
   "cell_type": "code",
   "execution_count": 12,
   "metadata": {},
   "outputs": [
    {
     "name": "stdout",
     "output_type": "stream",
     "text": [
      "constracter methods of father class\n",
      "Constuctor of mother class\n",
      "Constructor of grandson class.\n"
     ]
    }
   ],
   "source": [
    "'''\n",
    "\n",
    "   MULTIPLE INHERITANCE \n",
    "\n",
    "'''\n",
    "\n",
    "class Father:\n",
    "    def __init__(self):\n",
    "        super().__init__()\n",
    "        print(\"constracter methods of father class\")\n",
    "    def showF(self):\n",
    "        print(\"method of father class.\")\n",
    "    \n",
    "#making mother classs\n",
    "\n",
    "class Mother:\n",
    "    def __init__(self):\n",
    "        super().__init__()\n",
    "        print(\"Constuctor of mother class\")\n",
    "    def dispM(self):\n",
    "        print(\"instance method of mother class.\")\n",
    "\n",
    "#making Doughter class\n",
    "\n",
    "class Doughter(Mother,Father):\n",
    "    def __init__(self):\n",
    "        super().__init__()\n",
    "        print(\"Constructor of grandson class.\")\n",
    "    def showG(s):\n",
    "        print(\"class method of grand son class\")\n",
    "\n",
    "#calling \"doughter\" class \n",
    "\n",
    "d = Doughter()\n",
    "\n"
   ]
  },
  {
   "cell_type": "code",
   "execution_count": 22,
   "metadata": {},
   "outputs": [
    {
     "name": "stdout",
     "output_type": "stream",
     "text": [
      "The total marks of theory subject :- 3\n",
      "The total marks of practi.alsubjects :-7\n",
      "Marks of raj:-\n",
      "1.Total marks\n",
      "--Theory:-3\n",
      "--Practical:-7 \n",
      "2.Total Percentage\n",
      "--Theory:-1.875\n",
      "--Practical:-17.5\n",
      "\n"
     ]
    }
   ],
   "source": [
    "#example of multiple inheritance\n",
    "\n",
    "class Theory:\n",
    "    def __init__(self,sub1,sub2):\n",
    "        self.sub1=sub1\n",
    "        self.sub2=sub2\n",
    "    def theo(s):\n",
    "        a=s.sub1+s.sub2\n",
    "        c=(a/160)*100\n",
    "        print(f\"The total marks of theory subject :- {a}\")\n",
    "#o=Theory(90,88)\n",
    "#o.theo()\n",
    "\n",
    "class Practical:\n",
    "    def __init__(self,practicalsubj1,practicalsubj2):\n",
    "        self.practicalsubj1=practicalsubj1\n",
    "        self.practicalsubj2=practicalsubj2\n",
    "    def pract(x):\n",
    "        b=x.practicalsubj2+x.practicalsubj1\n",
    "        d=(b/40)*100\n",
    "        print(f\"The total marks of practi.alsubjects :-{b}\")\n",
    "\n",
    "class Theory_practical(Theory,Practical):\n",
    "    def __init__(self,name,sub1,sub2,practicalsubj1,practicalsubj2):\n",
    "        \n",
    "        Theory.__init__(self,sub1,sub2)\n",
    "        Practical.__init__(self,practicalsubj1,practicalsubj2)\n",
    "        self.name=name\n",
    "    def totalMarks(s):\n",
    "       total_theory_marks=s.sub1+s.sub2\n",
    "       pecentage_in_theory=( total_theory_marks/160)*100\n",
    "       practical_total=s.practicalsubj2+s.practicalsubj1\n",
    "       practicalPercentage=( practical_total/40)*100\n",
    "       print(f\"Marks of {s.name}:-\\n1.Total marks\\n--Theory:-{total_theory_marks}\\n--Practical:-{practical_total} \")\n",
    "       print(f\"2.Total Percentage\\n--Theory:-{pecentage_in_theory}\\n--Practical:-{practicalPercentage}\")\n",
    "    def result(s):\n",
    "        print()\n",
    "\n",
    "o = Theory_practical('raj',1,2,3,4)\n",
    "o.theo()\n",
    "o.pract()\n",
    "o.totalMarks()\n",
    "o.result()\n",
    "\n",
    "\n"
   ]
  },
  {
   "cell_type": "code",
   "execution_count": 14,
   "metadata": {},
   "outputs": [
    {
     "name": "stdout",
     "output_type": "stream",
     "text": [
      "('day', 'sunday')('week', 10)"
     ]
    }
   ],
   "source": [
    "x={'day':'sunday','week':10}\n",
    "\n",
    "for i in x.items():\n",
    "    print(i,end='')"
   ]
  },
  {
   "cell_type": "code",
   "execution_count": 7,
   "metadata": {},
   "outputs": [
    {
     "name": "stdout",
     "output_type": "stream",
     "text": [
      "THe value of c and d is 3 and 4\n",
      "15\n"
     ]
    }
   ],
   "source": [
    "class P1_class:\n",
    "    def __init__(self,a,b,**k):\n",
    "        super().__init__(**k)\n",
    "        self.a=a\n",
    "        self.b=b\n",
    "    def show1(s):\n",
    "        print(f\"The value of 'a' and 'b' is {s.a} and {s.b} \")\n",
    "\n",
    "class P2_class:\n",
    "    def __init__(self,c,d,**k2):\n",
    "        super().__init__(**k2)\n",
    "        self.c=c\n",
    "        self.d=d\n",
    "    def show2(s):\n",
    "        print(f\"THe value of c and d is {s.c} and {s.d}\")\n",
    "\n",
    "class P3_class(P1_class,P2_class):\n",
    "    def __init__(self,a2,b2,c2,d2,e):\n",
    "        self.e=e\n",
    "        super().__init__(a=a2,b=b2,c=c2,d=d2)\n",
    "    def show(self):\n",
    "        print(self.a+self.b+self.c+self.d+self.e)\n",
    "\n",
    "o = P3_class(1,2,3,4,5)\n",
    "o.show2()\n",
    "o.show()\n",
    "\n",
    "\n"
   ]
  },
  {
   "cell_type": "code",
   "execution_count": 8,
   "metadata": {},
   "outputs": [
    {
     "ename": "TabError",
     "evalue": "inconsistent use of tabs and spaces in indentation (<ipython-input-8-b549844f8d30>, line 9)",
     "output_type": "error",
     "traceback": [
      "\u001b[1;36m  File \u001b[1;32m\"<ipython-input-8-b549844f8d30>\"\u001b[1;36m, line \u001b[1;32m9\u001b[0m\n\u001b[1;33m    pass\u001b[0m\n\u001b[1;37m        ^\u001b[0m\n\u001b[1;31mTabError\u001b[0m\u001b[1;31m:\u001b[0m inconsistent use of tabs and spaces in indentation\n"
     ]
    }
   ],
   "source": [
    "class std:\n",
    "    # marks = []\n",
    "\tdef __init__(self,name,roll):\n",
    "\t\tself.name=name\n",
    "\t\tself.roll=roll\n",
    "\t\t# self.marks=[]\n",
    "\t\t\n",
    "\tdef E_M(self):\n",
    "        pass\n",
    "\t\t# for i in range(3):\n",
    "\t\t# \tm=int(input(\"Enter marks of %s in %d\"%(self.name,i+1))\n",
    "\t\t\t# std.marks.append(m)\n",
    "\t\n",
    "\tdef T_M(self):\n",
    "        pass\n",
    "\t\t# T=self.marks[0]+self.marks[1]+self.marks[2]\n",
    "\t\t# return(T)\n",
    "\tdef display(self):\n",
    "\t\tprint(\"Name:\",self.name)\n",
    "\t\tprint(\"Roll number:\",self.roll)\n",
    "\t\tprint(\"Total marks:\",self.T)\n",
    "s1=std(\"a\",2)\n",
    "s1.E_M()\n",
    "s1.display()"
   ]
  },
  {
   "cell_type": "code",
   "execution_count": 10,
   "metadata": {},
   "outputs": [
    {
     "name": "stdout",
     "output_type": "stream",
     "text": [
      "Name of student Abijeet\n",
      "Roll no. of student 3\n",
      "Marks of student 90\n",
      "Marks of student 98\n",
      "Marks of student 99\n",
      "Marks of student 89\n",
      "TOtal marks of Student 376\n"
     ]
    }
   ],
   "source": [
    "# Write a program that has a class student that stores roll number, \n",
    "# name and marks(in three subjects) of the students.\n",
    "# Display the information(roll number, name and total marks)stored about the student.\n",
    "\n",
    "class Student:\n",
    "    marks = []\n",
    "    def __init__(self,name,roll_no,*marks_s):\n",
    "        self.name=name\n",
    "        self.roll_no=roll_no\n",
    "        for i in marks_s:\n",
    "            Student.marks.append(i)\n",
    "    \n",
    "    def into(s):\n",
    "        print(f\"Name of student {s.name}\\nRoll no. of student {s.roll_no}\")\n",
    "        for j in Student.marks:\n",
    "            print(\"Marks of student\",j)\n",
    "\n",
    "    def Total_marks(s):\n",
    "        print(f\"TOtal marks of Student {sum(Student.marks)}\")   \n",
    "\n",
    "o = Student(\"Abijeet\",3,90,98,99,89)\n",
    "\n",
    "o.into()\n",
    "o.Total_marks()\n",
    "\n"
   ]
  },
  {
   "cell_type": "code",
   "execution_count": null,
   "metadata": {},
   "outputs": [],
   "source": []
  }
 ],
 "metadata": {
  "interpreter": {
   "hash": "64ed1da1f4be2165bc54c2fe6afcce1ac11341b9a0bdef4e54b6a0ca9c1fd8c6"
  },
  "kernelspec": {
   "display_name": "Python 3.9.1 64-bit",
   "name": "python3"
  },
  "language_info": {
   "codemirror_mode": {
    "name": "ipython",
    "version": 3
   },
   "file_extension": ".py",
   "mimetype": "text/x-python",
   "name": "python",
   "nbconvert_exporter": "python",
   "pygments_lexer": "ipython3",
   "version": "3.9.1"
  },
  "metadata": {
   "interpreter": {
    "hash": "64ed1da1f4be2165bc54c2fe6afcce1ac11341b9a0bdef4e54b6a0ca9c1fd8c6"
   }
  },
  "orig_nbformat": 2
 },
 "nbformat": 4,
 "nbformat_minor": 2
}
