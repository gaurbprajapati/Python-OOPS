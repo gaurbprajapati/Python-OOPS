{
 "metadata": {
  "language_info": {
   "codemirror_mode": {
    "name": "ipython",
    "version": 3
   },
   "file_extension": ".py",
   "mimetype": "text/x-python",
   "name": "python",
   "nbconvert_exporter": "python",
   "pygments_lexer": "ipython3",
   "version": "3.9.1"
  },
  "orig_nbformat": 2,
  "kernelspec": {
   "name": "python391jvsc74a57bd064ed1da1f4be2165bc54c2fe6afcce1ac11341b9a0bdef4e54b6a0ca9c1fd8c6",
   "display_name": "Python 3.9.1 64-bit"
  },
  "metadata": {
   "interpreter": {
    "hash": "64ed1da1f4be2165bc54c2fe6afcce1ac11341b9a0bdef4e54b6a0ca9c1fd8c6"
   }
  }
 },
 "nbformat": 4,
 "nbformat_minor": 2,
 "cells": [
  {
   "cell_type": "code",
   "execution_count": 3,
   "source": [
    "print(1.8+5.5)\r\n",
    "\r\n",
    "print(float.__add__(1.8,5.5))\r\n",
    "\r\n",
    "print(str.__add__('105','200'))"
   ],
   "outputs": [
    {
     "output_type": "stream",
     "name": "stdout",
     "text": [
      "7.3\n",
      "7.3\n",
      "105200\n"
     ]
    }
   ],
   "metadata": {}
  },
  {
   "cell_type": "code",
   "execution_count": 9,
   "source": [
    "class A:\r\n",
    "    def __init__(self,a):\r\n",
    "        self.a=a\r\n",
    "        print('value of a',a)\r\n",
    "    \r\n",
    "    def __gt__(self,o):\r\n",
    "        if (self.a>o.a):\r\n",
    "            return True\r\n",
    "        else:\r\n",
    "            return False\r\n",
    "    \r\n",
    "o1 = A(5)\r\n",
    "\r\n",
    "o2 = A(6)\r\n",
    "\r\n",
    "if (o1>o2):\r\n",
    "    print(\"Object one is greater \")\r\n",
    "else:\r\n",
    "    print(\"Object two is greater\")"
   ],
   "outputs": [
    {
     "output_type": "stream",
     "name": "stdout",
     "text": [
      "value of a 5\n",
      "value of a 6\n",
      "Object two is greater\n"
     ]
    }
   ],
   "metadata": {}
  },
  {
   "cell_type": "code",
   "execution_count": 15,
   "source": [
    "class my:\r\n",
    "    def __init__(s,a,b):\r\n",
    "        s.a=a\r\n",
    "        s.b=b\r\n",
    "    def __add__(s,other):\r\n",
    "        return s.a+s.b+other.a+other.b\r\n",
    "    \r\n",
    "o = my(1,2)\r\n",
    "\r\n",
    "o2 = my(3,4)\r\n",
    "\r\n",
    "o3=o+o2\r\n",
    "\r\n",
    "print(o3)\r\n",
    "\r\n",
    "# a = my(complex(1,2,6,7))\r\n",
    "\r\n",
    "# a2 = my(complex(3,4.6,8))\r\n",
    "\r\n",
    "print(a+a2)\r\n",
    "\r\n",
    "\r\n",
    "# print(complex(o3))"
   ],
   "outputs": [
    {
     "output_type": "stream",
     "name": "stdout",
     "text": [
      "10\n"
     ]
    },
    {
     "output_type": "error",
     "ename": "TypeError",
     "evalue": "complex() takes at most 2 arguments (4 given)",
     "traceback": [
      "\u001b[1;31m---------------------------------------------------------------------------\u001b[0m",
      "\u001b[1;31mTypeError\u001b[0m                                 Traceback (most recent call last)",
      "\u001b[1;32m<ipython-input-15-9994235548b0>\u001b[0m in \u001b[0;36m<module>\u001b[1;34m\u001b[0m\n\u001b[0;32m     14\u001b[0m \u001b[0mprint\u001b[0m\u001b[1;33m(\u001b[0m\u001b[0mo3\u001b[0m\u001b[1;33m)\u001b[0m\u001b[1;33m\u001b[0m\u001b[1;33m\u001b[0m\u001b[0m\n\u001b[0;32m     15\u001b[0m \u001b[1;33m\u001b[0m\u001b[0m\n\u001b[1;32m---> 16\u001b[1;33m \u001b[0ma\u001b[0m \u001b[1;33m=\u001b[0m \u001b[0mmy\u001b[0m\u001b[1;33m(\u001b[0m\u001b[0mcomplex\u001b[0m\u001b[1;33m(\u001b[0m\u001b[1;36m1\u001b[0m\u001b[1;33m,\u001b[0m\u001b[1;36m2\u001b[0m\u001b[1;33m,\u001b[0m\u001b[1;36m6\u001b[0m\u001b[1;33m,\u001b[0m\u001b[1;36m7\u001b[0m\u001b[1;33m)\u001b[0m\u001b[1;33m)\u001b[0m\u001b[1;33m\u001b[0m\u001b[1;33m\u001b[0m\u001b[0m\n\u001b[0m\u001b[0;32m     17\u001b[0m \u001b[1;33m\u001b[0m\u001b[0m\n\u001b[0;32m     18\u001b[0m \u001b[0ma2\u001b[0m \u001b[1;33m=\u001b[0m \u001b[0mmy\u001b[0m\u001b[1;33m(\u001b[0m\u001b[0mcomplex\u001b[0m\u001b[1;33m(\u001b[0m\u001b[1;36m3\u001b[0m\u001b[1;33m,\u001b[0m\u001b[1;36m4.6\u001b[0m\u001b[1;33m,\u001b[0m\u001b[1;36m8\u001b[0m\u001b[1;33m)\u001b[0m\u001b[1;33m)\u001b[0m\u001b[1;33m\u001b[0m\u001b[1;33m\u001b[0m\u001b[0m\n",
      "\u001b[1;31mTypeError\u001b[0m: complex() takes at most 2 arguments (4 given)"
     ]
    }
   ],
   "metadata": {}
  },
  {
   "cell_type": "code",
   "execution_count": null,
   "source": [
    "'''\r\n",
    "WAP that overload the + operator on a class student that has attributes name and marks\r\n",
    "\r\n",
    "\r\n",
    "'''\r\n",
    "# BY one method\r\n",
    "\r\n",
    "\r\n",
    "class Student:\r\n",
    "    list_marks=[]\r\n",
    "    def __init__(self,name,*marks):\r\n",
    "        self.name=name\r\n",
    "        for i in marks:\r\n",
    "            Student.list_marks.append(i)\r\n",
    "   \r\n",
    "    def show(s):\r\n",
    "        print(f\"Name of student:- {s.name}\\nMarks of student:- {Student.list_marks}\")\r\n",
    "\r\n",
    "    def __add__(self,o):\r\n",
    "        print(f\"The total marks of {self.name} is {sum(Student.list_marks)}\")\r\n",
    "\r\n",
    "          # print(f\"Marks total {s.marks+s.other}\")\r\n",
    "\r\n",
    "\r\n",
    "\r\n",
    "s1 = Student(\"G\",10,20,30)\r\n",
    "s2=Student(\"G\",20,10,30)\r\n",
    "s1.show()\r\n",
    "# s2.show()\r\n",
    "print(s1+s2)\r\n",
    "print(Student.__mro__)"
   ],
   "outputs": [],
   "metadata": {}
  }
 ]
}