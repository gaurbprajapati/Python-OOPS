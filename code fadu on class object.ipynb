{
    "cells": [
        {
            "cell_type": "code",
            "execution_count": 2,
            "source": [
                "\r\n",
                "for  i in range (9):\r\n",
                "    print(i)"
            ],
            "outputs": [
                {
                    "output_type": "stream",
                    "name": "stdout",
                    "text": [
                        "0\n",
                        "1\n",
                        "2\n",
                        "3\n",
                        "4\n",
                        "5\n",
                        "6\n",
                        "7\n",
                        "8\n"
                    ]
                }
            ],
            "metadata": {}
        },
        {
            "cell_type": "code",
            "execution_count": 3,
            "source": [
                "print(\"name\")\r\n"
            ],
            "outputs": [
                {
                    "output_type": "stream",
                    "name": "stdout",
                    "text": [
                        "name\n"
                    ]
                }
            ],
            "metadata": {}
        },
        {
            "cell_type": "code",
            "execution_count": 5,
            "source": [
                "x = int(input(\"Enter the number of team:--\"))\r\n",
                "\r\n",
                "for i in range (x):#enter the number of employee team\r\n",
                "    print(\"Detail of Team 1:-\")\r\n",
                "    class function:\r\n",
                "        name_list=[]\r\n",
                "        def __init__(self):\r\n",
                "            x2 = int(input(\"Enter the number of member in team 'A' :-- \"))\r\n",
                "            for j in range (x2):   \r\n",
                "                self.a=input(\"Enter the name of Team A member:--\")\r\n",
                "                function.name_list.append(self.a)\r\n",
                "            print(function.name_list)\r\n",
                "    o=function()\r\n",
                "                \r\n",
                "            "
            ],
            "outputs": [
                {
                    "output_type": "stream",
                    "name": "stdout",
                    "text": [
                        "Detail of Team 1:-\n",
                        "['gaurav', 'raj', 'raman']\n",
                        "Detail of Team 1:-\n",
                        "['g', 'i']\n",
                        "Detail of Team 1:-\n",
                        "['s', 'a', 'e', 'q']\n"
                    ]
                }
            ],
            "metadata": {}
        },
        {
            "cell_type": "code",
            "execution_count": null,
            "source": [],
            "outputs": [],
            "metadata": {}
        }
    ],
    "metadata": {
        "orig_nbformat": 4,
        "language_info": {
            "name": "python",
            "version": "3.9.1",
            "mimetype": "text/x-python",
            "codemirror_mode": {
                "name": "ipython",
                "version": 3
            },
            "pygments_lexer": "ipython3",
            "nbconvert_exporter": "python",
            "file_extension": ".py"
        },
        "kernelspec": {
            "name": "python3",
            "display_name": "Python 3.9.1 64-bit"
        },
        "interpreter": {
            "hash": "64ed1da1f4be2165bc54c2fe6afcce1ac11341b9a0bdef4e54b6a0ca9c1fd8c6"
        }
    },
    "nbformat": 4,
    "nbformat_minor": 2
}