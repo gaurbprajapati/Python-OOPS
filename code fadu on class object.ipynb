{
    "cells": [
        {
            "cell_type": "code",
            "execution_count": 2,
            "metadata": {},
            "outputs": [
                {
                    "name": "stdout",
                    "output_type": "stream",
                    "text": [
                        "0\n",
                        "1\n",
                        "2\n",
                        "3\n",
                        "4\n",
                        "5\n",
                        "6\n",
                        "7\n",
                        "8\n"
                    ]
                }
            ],
            "source": [
                "\n",
                "for  i in range (9):\n",
                "    print(i)"
            ]
        },
        {
            "cell_type": "code",
            "execution_count": 3,
            "metadata": {},
            "outputs": [
                {
                    "name": "stdout",
                    "output_type": "stream",
                    "text": [
                        "name\n"
                    ]
                }
            ],
            "source": [
                "print(\"name\")\n"
            ]
        },
        {
            "cell_type": "code",
            "execution_count": 5,
            "metadata": {},
            "outputs": [
                {
                    "name": "stdout",
                    "output_type": "stream",
                    "text": [
                        "Detail of Team 1:-\n",
                        "['gaurav', 'raj', 'raman']\n",
                        "Detail of Team 1:-\n",
                        "['g', 'i']\n",
                        "Detail of Team 1:-\n",
                        "['s', 'a', 'e', 'q']\n"
                    ]
                }
            ],
            "source": [
                "x = int(input(\"Enter the number of team:--\"))\n",
                "\n",
                "for i in range (x):#enter the number of employee team\n",
                "    print(\"Detail of Team 1:-\")\n",
                "    class function:\n",
                "        name_list=[]\n",
                "        def __init__(self):\n",
                "            x2 = int(input(\"Enter the number of member in team 'A' :-- \"))\n",
                "            for j in range (x2):   \n",
                "                self.a=input(\"Enter the name of Team A member:--\")\n",
                "                function.name_list.append(self.a)\n",
                "            print(function.name_list)\n",
                "    o=function()\n",
                "                \n",
                "            "
            ]
        },
        {
            "cell_type": "code",
            "execution_count": null,
            "metadata": {},
            "outputs": [],
            "source": []
        }
    ],
    "metadata": {
        "kernelspec": {
            "display_name": "Python 3",
            "language": "python",
            "name": "python3"
        },
        "language_info": {
            "codemirror_mode": {
                "name": "ipython",
                "version": 3
            },
            "file_extension": ".py",
            "mimetype": "text/x-python",
            "name": "python",
            "nbconvert_exporter": "python",
            "pygments_lexer": "ipython3",
            "version": "3.9.1 (tags/v3.9.1:1e5d33e, Dec  7 2020, 17:08:21) [MSC v.1927 64 bit (AMD64)]"
        },
        "orig_nbformat": 4,
        "vscode": {
            "interpreter": {
                "hash": "774bfae9a6486279c057f8f7c40ce72d7408c99b162a61fa72e696237f34197d"
            }
        }
    },
    "nbformat": 4,
    "nbformat_minor": 2
}
