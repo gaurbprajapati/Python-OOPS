{
 "metadata": {
  "language_info": {
   "codemirror_mode": {
    "name": "ipython",
    "version": 3
   },
   "file_extension": ".py",
   "mimetype": "text/x-python",
   "name": "python",
   "nbconvert_exporter": "python",
   "pygments_lexer": "ipython3",
   "version": "3.9.1"
  },
  "orig_nbformat": 2,
  "kernelspec": {
   "name": "python3",
   "display_name": "Python 3.9.1 64-bit"
  },
  "metadata": {
   "interpreter": {
    "hash": "64ed1da1f4be2165bc54c2fe6afcce1ac11341b9a0bdef4e54b6a0ca9c1fd8c6"
   }
  },
  "interpreter": {
   "hash": "64ed1da1f4be2165bc54c2fe6afcce1ac11341b9a0bdef4e54b6a0ca9c1fd8c6"
  }
 },
 "nbformat": 4,
 "nbformat_minor": 2,
 "cells": [
  {
   "cell_type": "code",
   "execution_count": null,
   "source": [
    "class Student:\r\n",
    "    marjs=True\r\n",
    "student=Student()\r\n",
    "if hasattr(student,'marjs'):\r\n",
    "    print(\"The fruit is tasty\")\r\n",
    "else:\r\n",
    "    print(\"the fruit is not tasty\")"
   ],
   "outputs": [],
   "metadata": {}
  },
  {
   "cell_type": "code",
   "execution_count": null,
   "source": [
    "import inspect\r\n",
    "print(inspect.getmembers(str))"
   ],
   "outputs": [],
   "metadata": {
    "tags": [
     "outputPrepend"
    ]
   }
  },
  {
   "cell_type": "markdown",
   "source": [
    "ISINSTANCE-Checks if an object is an instance of a specific class.\r\n"
   ],
   "metadata": {}
  },
  {
   "cell_type": "code",
   "execution_count": null,
   "source": [
    "a=isinstance([2,3,4,],list)\r\n",
    "print(a)\r\n",
    "print(\"-\"*20)\r\n",
    "\r\n",
    "# print(help(isinstance))"
   ],
   "outputs": [],
   "metadata": {}
  },
  {
   "cell_type": "code",
   "execution_count": null,
   "source": [
    "import math\r\n",
    "\r\n",
    "print(type(math))\r\n"
   ],
   "outputs": [],
   "metadata": {}
  },
  {
   "cell_type": "code",
   "execution_count": null,
   "source": [
    "def myfun():\r\n",
    "    '''my name is raj and this is function for my body '''\r\n",
    "    print(\"Godd\")\r\n",
    "f=[\"Smart\",\"happy\"]\r\n",
    "for i in f:\r\n",
    "    print(i.__doc__)\r\n",
    "    print(i.__name__)"
   ],
   "outputs": [],
   "metadata": {
    "tags": [
     "outputPrepend"
    ]
   }
  },
  {
   "cell_type": "code",
   "execution_count": null,
   "source": [
    "a=23\r\n",
    "globals()[\"a\"]=90\r\n",
    "print(a)"
   ],
   "outputs": [],
   "metadata": {}
  },
  {
   "cell_type": "code",
   "execution_count": null,
   "source": [
    "globals()"
   ],
   "outputs": [],
   "metadata": {}
  },
  {
   "cell_type": "code",
   "execution_count": null,
   "source": [
    "name=\"Gaurav\"\r\n",
    "globals()[\"name\"]=\"Gaurav Prajapati\"\r\n",
    "print(name)"
   ],
   "outputs": [],
   "metadata": {}
  },
  {
   "cell_type": "code",
   "execution_count": null,
   "source": [
    "name1=\"Raman sharma\"\r\n",
    "\r\n",
    "# globals()[\"name\"]=\"TIwari\"\r\n",
    "\r\n",
    "# print(name)\r\n",
    "\r\n",
    "name=\"Raj\"\r\n",
    "\r\n",
    "name1=name\r\n",
    "\r\n",
    "print(name1)\r\n",
    "\r\n",
    "\r\n",
    "print(name)\r\n"
   ],
   "outputs": [],
   "metadata": {}
  },
  {
   "cell_type": "markdown",
   "source": [
    "GETSOURCE MODUL "
   ],
   "metadata": {}
  },
  {
   "cell_type": "code",
   "execution_count": null,
   "source": [
    "\r\n",
    "import math\r\n",
    "\r\n",
    "import cla\r\n",
    "\r\n",
    "\r\n",
    "import inspect\r\n",
    "\r\n",
    "a=(inspect.getsource(cla))\r\n",
    "\r\n",
    "print(a)\r\n"
   ],
   "outputs": [],
   "metadata": {}
  },
  {
   "cell_type": "code",
   "execution_count": null,
   "source": [
    "a= inspect.getdoc(cla)\r\n",
    "\r\n",
    "print(a)"
   ],
   "outputs": [],
   "metadata": {}
  },
  {
   "cell_type": "code",
   "execution_count": null,
   "source": [
    "inspect.signature(cla)"
   ],
   "outputs": [],
   "metadata": {}
  },
  {
   "cell_type": "code",
   "execution_count": null,
   "source": [
    "inspect.getclasstree(cla)"
   ],
   "outputs": [],
   "metadata": {}
  },
  {
   "cell_type": "code",
   "execution_count": null,
   "source": [],
   "outputs": [],
   "metadata": {}
  }
 ]
}