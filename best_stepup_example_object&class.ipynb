{
 "cells": [
  {
   "cell_type": "code",
   "execution_count": 1,
   "metadata": {},
   "outputs": [
    {
     "name": "stdout",
     "output_type": "stream",
     "text": [
      "Hello\n"
     ]
    }
   ],
   "source": [
    "\n",
    "# A simple example class\n",
    "class Test:\n",
    "     \n",
    "    # A sample method\n",
    "    def fun(self):\n",
    "        print(\"Hello\")\n",
    " \n",
    "# Driver code\n",
    "obj = Test()\n",
    "obj.fun()"
   ]
  },
  {
   "cell_type": "code",
   "execution_count": 2,
   "metadata": {},
   "outputs": [
    {
     "name": "stdout",
     "output_type": "stream",
     "text": [
      "{'name': 'Shwetanshu'}\n",
      "cs 23\n",
      "Hello, my name is Shwetanshu\n"
     ]
    }
   ],
   "source": [
    "# A Sample class with init method\n",
    "class Person:\n",
    " \n",
    "    # init method or constructor\n",
    "    def __init__(self, name):\n",
    "        self.name = name\n",
    " \n",
    "    # Sample Method\n",
    "    def say_hi(self):\n",
    "        print('Hello, my name is', self.name)\n",
    " \n",
    "p = Person('Shwetanshu')\n",
    "print(p.__dict__)\n",
    "p.clas=\"cs\"\n",
    "p.rol=23\n",
    "print(p.clas,p.rol)\n",
    "p.say_hi()"
   ]
  },
  {
   "cell_type": "code",
   "execution_count": 15,
   "metadata": {},
   "outputs": [
    {
     "name": "stdout",
     "output_type": "stream",
     "text": [
      "cse\n",
      "cse\n",
      "101\n",
      "IT\n",
      "cse\n"
     ]
    }
   ],
   "source": [
    "# Python program to show that the variables with a value\n",
    "# assigned in class declaration, are class variables and\n",
    "# variables inside methods and constructors are instance\n",
    "# variables.\n",
    "\n",
    "# Class for Computer Science Student\n",
    "class CSStudent:\n",
    "\n",
    "\t# Class Variable\n",
    "\tstream = 'cse'\t\t\t\n",
    "\n",
    "\t# The init method or constructor\n",
    "\tdef __init__(self, roll):\n",
    "\n",
    "\t\t# Instance Variable\n",
    "\t\tself.roll = roll\t\n",
    "\n",
    "# Objects of CSStudent class\n",
    "a = CSStudent(101)\n",
    "b = CSStudent(102)\n",
    "c = CSStudent(900) \n",
    "\n",
    "c.stream = \"IT\"  #this is instance variable\n",
    "\n",
    "print(a.stream) # prints \"cse\"\n",
    "print(b.stream) # prints \"cse\"\n",
    "print(a.roll) # prints 101\n",
    "print(c.stream)  #print IT\n",
    "# Class variables can be accessed using class\n",
    "# name also\n",
    "print(CSStudent.stream) # prints \"cse\"\n"
   ]
  },
  {
   "cell_type": "code",
   "execution_count": 34,
   "metadata": {},
   "outputs": [
    {
     "name": "stdout",
     "output_type": "stream",
     "text": [
      "Noida, UP\n",
      "paharganj delhi New Delhi\n"
     ]
    }
   ],
   "source": [
    "# Python program to show that we can create\n",
    "# instance variables inside methods\n",
    "  \n",
    "# Class for Computer Science Student\n",
    "class CSStudent:\n",
    "     \n",
    "    # Class Variable\n",
    "    stream = 'cse'     \n",
    "     \n",
    "    # The init method or constructor\n",
    "    def __init__(self, roll):\n",
    "         \n",
    "        # Instance Variable\n",
    "        self.roll = roll           \n",
    " \n",
    "    # Adds an instance variable\n",
    "    def setAddress(self, address):\n",
    "        self.address = address\n",
    "        \n",
    "\n",
    "    # Retrieves instance variable   \n",
    "    def getAddress(self):   \n",
    "        return (self.address)\n",
    " \n",
    "# Driver Code\n",
    "a = CSStudent(101)\n",
    "a.setAddress(\"Noida, UP\")\n",
    "print(a.getAddress())\n",
    "\n",
    "b=CSStudent(990)\n",
    "\n",
    "b.setAddress = (\"paharganj delhi\")\n",
    "b.getAddress = \"New Delhi\"\n",
    "\n",
    "print(b.setAddress,b.getAddress)"
   ]
  },
  {
   "cell_type": "code",
   "execution_count": 7,
   "metadata": {},
   "outputs": [
    {
     "name": "stdout",
     "output_type": "stream",
     "text": [
      "Instance Method of Father class.\n"
     ]
    },
    {
     "ename": "AttributeError",
     "evalue": "type object 'Father' has no attribute 'num'",
     "output_type": "error",
     "traceback": [
      "\u001b[1;31m---------------------------------------------------------------------------\u001b[0m",
      "\u001b[1;31mAttributeError\u001b[0m                            Traceback (most recent call last)",
      "\u001b[1;32m<ipython-input-7-55bf5d32cc46>\u001b[0m in \u001b[0;36m<module>\u001b[1;34m\u001b[0m\n\u001b[0;32m     10\u001b[0m \u001b[1;33m\u001b[0m\u001b[0m\n\u001b[0;32m     11\u001b[0m \u001b[0ma\u001b[0m\u001b[1;33m=\u001b[0m\u001b[0mFather\u001b[0m\u001b[1;33m(\u001b[0m\u001b[1;36m1000\u001b[0m\u001b[1;33m)\u001b[0m\u001b[1;33m\u001b[0m\u001b[1;33m\u001b[0m\u001b[0m\n\u001b[1;32m---> 12\u001b[1;33m \u001b[0ma\u001b[0m\u001b[1;33m.\u001b[0m\u001b[0mshowmoney\u001b[0m\u001b[1;33m(\u001b[0m\u001b[1;33m)\u001b[0m\u001b[1;33m\u001b[0m\u001b[1;33m\u001b[0m\u001b[0m\n\u001b[0m",
      "\u001b[1;32m<ipython-input-7-55bf5d32cc46>\u001b[0m in \u001b[0;36mshowmoney\u001b[1;34m(cls)\u001b[0m\n\u001b[0;32m      7\u001b[0m     \u001b[1;33m@\u001b[0m\u001b[0mclassmethod\u001b[0m\u001b[1;33m\u001b[0m\u001b[1;33m\u001b[0m\u001b[0m\n\u001b[0;32m      8\u001b[0m     \u001b[1;32mdef\u001b[0m \u001b[0mshowmoney\u001b[0m\u001b[1;33m(\u001b[0m\u001b[0mcls\u001b[0m\u001b[1;33m)\u001b[0m\u001b[1;33m:\u001b[0m\u001b[1;33m\u001b[0m\u001b[1;33m\u001b[0m\u001b[0m\n\u001b[1;32m----> 9\u001b[1;33m         \u001b[0mprint\u001b[0m\u001b[1;33m(\u001b[0m\u001b[1;34m\"Class method of father class\"\u001b[0m\u001b[1;33m,\u001b[0m\u001b[0mcls\u001b[0m\u001b[1;33m.\u001b[0m\u001b[0mnum\u001b[0m\u001b[1;33m)\u001b[0m\u001b[1;33m\u001b[0m\u001b[1;33m\u001b[0m\u001b[0m\n\u001b[0m\u001b[0;32m     10\u001b[0m \u001b[1;33m\u001b[0m\u001b[0m\n\u001b[0;32m     11\u001b[0m \u001b[0ma\u001b[0m\u001b[1;33m=\u001b[0m\u001b[0mFather\u001b[0m\u001b[1;33m(\u001b[0m\u001b[1;36m1000\u001b[0m\u001b[1;33m)\u001b[0m\u001b[1;33m\u001b[0m\u001b[1;33m\u001b[0m\u001b[0m\n",
      "\u001b[1;31mAttributeError\u001b[0m: type object 'Father' has no attribute 'num'"
     ]
    }
   ],
   "source": [
    "\n",
    "class Father:\n",
    "    #money=189\n",
    "    def __init__(self,num):\n",
    "        self.num=num\n",
    "        print(\"Instance Method of Father class.\")\n",
    "\n",
    "    @classmethod\n",
    "    def showmoney(cls):\n",
    "        print(\"Class method of father class\",cls.num)\n",
    "\n",
    "a=Father(1000)\n",
    "a.showmoney()"
   ]
  },
  {
   "cell_type": "code",
   "execution_count": null,
   "metadata": {},
   "outputs": [],
   "source": []
  }
 ],
 "metadata": {
  "kernelspec": {
   "display_name": "Python 3",
   "language": "python",
   "name": "python3"
  },
  "language_info": {
   "codemirror_mode": {
    "name": "ipython",
    "version": 3
   },
   "file_extension": ".py",
   "mimetype": "text/x-python",
   "name": "python",
   "nbconvert_exporter": "python",
   "pygments_lexer": "ipython3",
   "version": "3.9.1 (tags/v3.9.1:1e5d33e, Dec  7 2020, 17:08:21) [MSC v.1927 64 bit (AMD64)]"
  },
  "metadata": {
   "interpreter": {
    "hash": "64ed1da1f4be2165bc54c2fe6afcce1ac11341b9a0bdef4e54b6a0ca9c1fd8c6"
   }
  },
  "orig_nbformat": 2,
  "vscode": {
   "interpreter": {
    "hash": "774bfae9a6486279c057f8f7c40ce72d7408c99b162a61fa72e696237f34197d"
   }
  }
 },
 "nbformat": 4,
 "nbformat_minor": 2
}
