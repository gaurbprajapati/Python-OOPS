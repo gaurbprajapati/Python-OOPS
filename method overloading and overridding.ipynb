{
 "metadata": {
  "language_info": {
   "codemirror_mode": {
    "name": "ipython",
    "version": 3
   },
   "file_extension": ".py",
   "mimetype": "text/x-python",
   "name": "python",
   "nbconvert_exporter": "python",
   "pygments_lexer": "ipython3",
   "version": "3.9.1"
  },
  "orig_nbformat": 2,
  "kernelspec": {
   "name": "python3",
   "display_name": "Python 3.9.1 64-bit"
  },
  "metadata": {
   "interpreter": {
    "hash": "64ed1da1f4be2165bc54c2fe6afcce1ac11341b9a0bdef4e54b6a0ca9c1fd8c6"
   }
  },
  "interpreter": {
   "hash": "64ed1da1f4be2165bc54c2fe6afcce1ac11341b9a0bdef4e54b6a0ca9c1fd8c6"
  }
 },
 "nbformat": 4,
 "nbformat_minor": 2,
 "cells": [
  {
   "cell_type": "code",
   "execution_count": 3,
   "source": [
    "#  method overriding\r\n",
    "\r\n",
    "class Emp:\r\n",
    "    def message(self):\r\n",
    "        \r\n",
    "        print(\"I am from NIET\")\r\n",
    "\r\n",
    "class Dept(Emp):\r\n",
    "    def message(self):\r\n",
    "        super().message()   #ager super().messsage() niche hoga or print(\"niet...\") \r\n",
    "        print(\"NIET is in Greater noida\")   #upper hoga tho NIET is in Grea... wali line pahle print hogi\r\n",
    "\r\n",
    "d = Dept()\r\n",
    "d.message()\r\n",
    "\r\n",
    "# e = Emp()\r\n",
    "# e.message()\r\n",
    "\r\n",
    "\r\n"
   ],
   "outputs": [
    {
     "output_type": "stream",
     "name": "stdout",
     "text": [
      "I am from NIET\n",
      "NIET is in Greater noida\n"
     ]
    }
   ],
   "metadata": {}
  },
  {
   "cell_type": "code",
   "execution_count": 9,
   "source": [
    "#method overloading \r\n",
    "\r\n",
    "class NIet:\r\n",
    "    def sum(self,a=None,b=None,c=None):\r\n",
    "        if a!=None and b!=None and c!=None:\r\n",
    "            return (a+b+c)\r\n",
    "        elif a!=None and b!=None:\r\n",
    "            return (a+b)\r\n",
    "        else:\r\n",
    "            return (\"Please enter atleast Two number\")\r\n",
    "    \r\n",
    "a = NIet()\r\n",
    "print(a.sum(10,20,40))\r\n",
    "print(a.sum(2,4))\r\n",
    "print(a.sum(1))"
   ],
   "outputs": [
    {
     "output_type": "stream",
     "name": "stdout",
     "text": [
      "70\n",
      "6\n",
      "Please enter atleast Two number\n"
     ]
    }
   ],
   "metadata": {}
  },
  {
   "cell_type": "code",
   "execution_count": 8,
   "source": [
    "#method overloading\r\n",
    "\r\n",
    "class Niet:\r\n",
    "    def sum(s,a=0,b=0,c=0):\r\n",
    "        print(a+b+c)\r\n",
    "    def mul(s,a=0,b=0,c=0):\r\n",
    "        print(a*b*c)\r\n",
    "a=Niet()\r\n",
    "a.sum(10,20)\r\n",
    "a.mul(22,1,2)\r\n",
    "\r\n"
   ],
   "outputs": [
    {
     "output_type": "stream",
     "name": "stdout",
     "text": [
      "30\n",
      "44\n"
     ]
    }
   ],
   "metadata": {}
  },
  {
   "cell_type": "code",
   "execution_count": 4,
   "source": [
    "class Myclass:\r\n",
    "    def __init__(self,a):\r\n",
    "        self.a=a\r\n",
    "    def __add__(self,other):\r\n",
    "        return self.a + other.a\r\n",
    "        \r\n",
    "a=Myclass(10)\r\n",
    "b=Myclass(2)\r\n",
    "print(a+b)"
   ],
   "outputs": [
    {
     "output_type": "stream",
     "name": "stdout",
     "text": [
      "12\n"
     ]
    }
   ],
   "metadata": {}
  },
  {
   "cell_type": "code",
   "execution_count": 10,
   "source": [
    "class myclass:\r\n",
    "    def __init__(self,a,b):\r\n",
    "        self.a=a\r\n",
    "        self.b=b\r\n",
    "    def __add__(self,other):\r\n",
    "        return self.a + other.a\r\n",
    "    def __str__(self):\r\n",
    "        print(self.a,self.b)\r\n",
    "    \r\n",
    "a=myclass(10,20)\r\n"
   ],
   "outputs": [],
   "metadata": {}
  },
  {
   "cell_type": "code",
   "execution_count": 4,
   "source": [
    "'''\r\n",
    "WAP that overload the + operator on a class student that has attributes name and marks\r\n",
    "\r\n",
    "\r\n",
    "'''\r\n",
    "# BY one method\r\n",
    "\r\n",
    "\r\n",
    "class Student:\r\n",
    "    list_marks=[]\r\n",
    "    def __init__(self,name,*marks):\r\n",
    "        self.name=name\r\n",
    "        for i in marks:\r\n",
    "            Student.list_marks.append(i)\r\n",
    "   \r\n",
    "    def show(s):\r\n",
    "        print(f\"Name of student:- {s.name}\\nMarks of student:- {Student.list_marks}\")\r\n",
    "\r\n",
    "    def __add__(self,o):\r\n",
    "        print(f\"The total marks of {self.name} is {sum(Student.list_marks)}\")\r\n",
    "\r\n",
    "          # print(f\"Marks total {s.marks+s.other}\")\r\n",
    "\r\n",
    "\r\n",
    "\r\n",
    "s1 = Student(\"G\",10,20,30)\r\n",
    "s2=Student(\"G\",20,10,30)\r\n",
    "s1.show()\r\n",
    "# s2.show()\r\n",
    "print(s1+s2)\r\n",
    "print(Student.__mro__)"
   ],
   "outputs": [
    {
     "output_type": "stream",
     "name": "stdout",
     "text": [
      "Name of student:- G\n",
      "Marks of student:- [10, 20, 30, 20, 10, 30]\n",
      "The total marks of G is 120\n",
      "None\n",
      "(<class '__main__.Student'>, <class 'object'>)\n"
     ]
    }
   ],
   "metadata": {}
  },
  {
   "cell_type": "code",
   "execution_count": 5,
   "source": [
    "# by method two\r\n",
    "\r\n",
    "class Student:\r\n",
    "    def __init__(self,name,marks):\r\n",
    "        self.name=name\r\n",
    "        self.marks=marks\r\n",
    "    def display(self):\r\n",
    "        print(self.name,self.marks)\r\n",
    "    def __add__(self,s):\r\n",
    "        temp=Student(s.name,[])\r\n",
    "\r\n",
    "        for i in range (len(self.marks)):\r\n",
    "            temp.marks.append(self.marks[i]+s.marks[i])\r\n",
    "        return temp\r\n",
    "\r\n",
    "s1 = Student(\"Gaurv\",[90,96,89])\r\n",
    "s2 = Student(\"Gaurav\",[81,84,90])\r\n",
    "\r\n",
    "s1.display()\r\n",
    "s1.display()\r\n",
    "s3=Student('',[])\r\n",
    "\r\n",
    "s3=s1+s2\r\n",
    "s3.display()\r\n"
   ],
   "outputs": [
    {
     "output_type": "stream",
     "name": "stdout",
     "text": [
      "Gaurv [90, 96, 89]\n",
      "Gaurv [90, 96, 89]\n",
      "Gaurav [171, 180, 179]\n"
     ]
    }
   ],
   "metadata": {}
  },
  {
   "cell_type": "code",
   "execution_count": 9,
   "source": [
    "# add two complex number with number operator overloading\r\n",
    "\r\n",
    "class Complex:\r\n",
    "    def __init(self):\r\n",
    "        self.reak=0\r\n",
    "        self.imag=0\r\n",
    "    def setValue(self,real,imag):\r\n",
    "        self.real=real\r\n",
    "        self.imag=imag\r\n",
    "    def __add__(self,c):\r\n",
    "        t=Complex()\r\n",
    "        t.real=self.real+c.real\r\n",
    "        t.imag=self.imag=c.imag\r\n",
    "        return t\r\n",
    "    def result(self):\r\n",
    "        print(self.real,\"+\",self.imag,'i')\r\n",
    "c = Complex()\r\n",
    "\r\n",
    "c.setValue(2,4)\r\n",
    "\r\n",
    "d=Complex()\r\n",
    "d.setValue(2,7)\r\n",
    "\r\n",
    "e=Complex()\r\n",
    "\r\n",
    "e=c+d\r\n",
    "\r\n",
    "e.result()\r\n",
    "\r\n",
    "print(Complex.__mro__)"
   ],
   "outputs": [
    {
     "output_type": "stream",
     "name": "stdout",
     "text": [
      "4 + 7 i\n",
      "(<class '__main__.Complex'>, <class 'object'>)\n"
     ]
    }
   ],
   "metadata": {}
  },
  {
   "cell_type": "code",
   "execution_count": 2,
   "source": [
    "print (\"this is an example of  method overwritting\")\r\n",
    "class square:\r\n",
    "    def area1(self,side):\r\n",
    "        self.side =side\r\n",
    "        print (\"the area of square is\",self.side*self.side)\r\n",
    "class rectangle:\r\n",
    "    def area1(self,length ,breadth):\r\n",
    "        self.length =length\r\n",
    "        self.breadth=breadth\r\n",
    "        print(\"the area of rectangle is \", self.length * self.breadth)\r\n",
    "\r\n",
    "class triangle:\r\n",
    "    def area1(self,base,height):\r\n",
    "        self.base=base\r\n",
    "        self.height=height\r\n",
    "        print(\"the area of triangle is\",float(0.5*self.base*self.height))\r\n",
    "\r\n",
    "\r\n",
    "r1=rectangle()\r\n",
    "r1.area1(2,4)\r\n",
    "s1=square()\r\n",
    "s1.area1(9)\r\n",
    "t1=triangle()\r\n",
    "t1.area1(10,5)"
   ],
   "outputs": [
    {
     "output_type": "stream",
     "name": "stdout",
     "text": [
      "this is an example of  method overwritting\n",
      "the area of rectangle is  8\n",
      "the area of square is 81\n",
      "the area of triangle is 25.0\n"
     ]
    }
   ],
   "metadata": {}
  },
  {
   "cell_type": "code",
   "execution_count": 3,
   "source": [
    "#method overriding\r\n",
    "\r\n",
    "# class triangle :\r\n",
    "#     def area(self,a,b):\r\n",
    "#         print(\"Area of triangle\",((1/2)*a*b))\r\n",
    "\r\n",
    "# class reactangle(triangle):\r\n",
    "#     def area(self,a,b):\r\n",
    "#         super().area(map(float,input().split()))\r\n",
    "\r\n",
    "#         print(\"Area of triangle\",a*b)\r\n",
    "\r\n",
    "# a = reactangle()\r\n",
    "\r\n",
    "# a.area(map(float,input().split()))\r\n",
    "\r\n",
    "\r\n",
    "class triangle :\r\n",
    "    def area(self,a,b):\r\n",
    "        print(\"Area of triangle\",((1/2)*a*b))\r\n",
    "\r\n",
    "class reactangle(triangle):\r\n",
    "    def area(self,a,b):\r\n",
    "        super().area(float(input(\"enter base\")),float(input(\"enter heigh\")))\r\n",
    "\r\n",
    "        print(\"Area of triangle\",a*b)\r\n",
    "\r\n",
    "a = reactangle()\r\n",
    "\r\n",
    "# a.area(map(float,input(\"enter length and breadth\").split()))\r\n",
    "a.area(float(input(\"enter length\")),float(input(\"enter breadth\")))"
   ],
   "outputs": [
    {
     "output_type": "error",
     "ename": "TypeError",
     "evalue": "area() missing 1 required positional argument: 'b'",
     "traceback": [
      "\u001b[1;31m---------------------------------------------------------------------------\u001b[0m",
      "\u001b[1;31mTypeError\u001b[0m                                 Traceback (most recent call last)",
      "\u001b[1;32m<ipython-input-3-941f346aa69f>\u001b[0m in \u001b[0;36m<module>\u001b[1;34m\u001b[0m\n\u001b[0;32m     13\u001b[0m \u001b[0ma\u001b[0m \u001b[1;33m=\u001b[0m \u001b[0mreactangle\u001b[0m\u001b[1;33m(\u001b[0m\u001b[1;33m)\u001b[0m\u001b[1;33m\u001b[0m\u001b[1;33m\u001b[0m\u001b[0m\n\u001b[0;32m     14\u001b[0m \u001b[1;33m\u001b[0m\u001b[0m\n\u001b[1;32m---> 15\u001b[1;33m \u001b[0ma\u001b[0m\u001b[1;33m.\u001b[0m\u001b[0marea\u001b[0m\u001b[1;33m(\u001b[0m\u001b[0mmap\u001b[0m\u001b[1;33m(\u001b[0m\u001b[0mfloat\u001b[0m\u001b[1;33m,\u001b[0m\u001b[0minput\u001b[0m\u001b[1;33m(\u001b[0m\u001b[1;33m)\u001b[0m\u001b[1;33m.\u001b[0m\u001b[0msplit\u001b[0m\u001b[1;33m(\u001b[0m\u001b[1;33m)\u001b[0m\u001b[1;33m)\u001b[0m\u001b[1;33m)\u001b[0m\u001b[1;33m\u001b[0m\u001b[1;33m\u001b[0m\u001b[0m\n\u001b[0m",
      "\u001b[1;31mTypeError\u001b[0m: area() missing 1 required positional argument: 'b'"
     ]
    }
   ],
   "metadata": {}
  },
  {
   "cell_type": "code",
   "execution_count": 4,
   "source": [
    "class A:\r\n",
    "\tdef __init__(self, x):\r\n",
    "\t\tprint(\"inside __init__()\")\r\n",
    "\t\tself.y = x\r\n",
    "\r\n",
    "\tdef __str__(self):\r\n",
    "\t\tprint(\"inside __str__()\")\r\n",
    "\t\tprint(\"value of y:\", str(self.y))\r\n",
    "\r\n",
    "\tdef __call__(self):\r\n",
    "\t\tres = 0\r\n",
    "\t\tprint(\"inside __call__()\")\r\n",
    "\t\tprint(\"adding 2 to the value of y\")\r\n",
    "\t\tres = self.y + 2\r\n",
    "\t\treturn res\r\n",
    "\t\t\r\n",
    "\r\n",
    "\t\r\n",
    "# declaration of instance of class A\r\n",
    "a = A(3)\r\n",
    "\r\n",
    "# calling __str__() for a\r\n",
    "a.__str__()\r\n",
    "\r\n",
    "calling __call__() for a\r\n",
    "r = A(5)\r\n",
    "print(r)\r\n",
    "\r\n",
    "# declaration of another instance\r\n",
    "# of class A\r\n",
    "b = A(10)\r\n",
    "\r\n",
    "# calling __str__() for b\r\n",
    "b.__str__()\r\n",
    "\r\n",
    "# calling __call__() for b\r\n",
    "r = b()\r\n",
    "print(r)\r\n"
   ],
   "outputs": [
    {
     "output_type": "error",
     "ename": "SyntaxError",
     "evalue": "invalid syntax (<ipython-input-4-8f96eb9a43cc>, line 25)",
     "traceback": [
      "\u001b[1;36m  File \u001b[1;32m\"<ipython-input-4-8f96eb9a43cc>\"\u001b[1;36m, line \u001b[1;32m25\u001b[0m\n\u001b[1;33m    calling __call__() for a\u001b[0m\n\u001b[1;37m            ^\u001b[0m\n\u001b[1;31mSyntaxError\u001b[0m\u001b[1;31m:\u001b[0m invalid syntax\n"
     ]
    }
   ],
   "metadata": {}
  },
  {
   "cell_type": "code",
   "execution_count": 1,
   "source": [
    "class Complex:\r\n",
    "    def __init__(self,real=None,imag=None):\r\n",
    "        self.real=real\r\n",
    "        self.imag=imag\r\n",
    "        # print(self.real,self.imag)\r\n",
    "    # def __repr__(self) -> str:\r\n",
    "    #     if self.imag>=0:\r\n",
    "    #         return complex(self.real,self.imag)\r\n",
    "    #     else:\r\n",
    "    #         return \r\n",
    "    def h(s):\r\n",
    "        print(complex(s.real,s.imag))\r\n",
    "\r\n",
    "        \r\n",
    "o=Complex(1,5)\r\n",
    "o.h()\r\n"
   ],
   "outputs": [
    {
     "output_type": "stream",
     "name": "stdout",
     "text": [
      "(1+5j)\n"
     ]
    }
   ],
   "metadata": {}
  },
  {
   "cell_type": "code",
   "execution_count": 1,
   "source": [
    "class number:\r\n",
    "    def __init__(self):\r\n",
    "        self.a=None\r\n",
    "        self.b=None\r\n",
    "    \r\n",
    "    def disp(s):\r\n",
    "        s.a=int(input(\"a:---\"))\r\n",
    "        s.b=int(input(\"b:---\"))\r\n",
    "    def __add__(s,o):\r\n",
    "        temp=number()\r\n",
    "        temp.a=s.a+o.a \r\n",
    "        temp.b=s.b+o.b\r\n",
    "        return temp\r\n",
    "    def play(s):\r\n",
    "        return s.a,s.b\r\n",
    "o = number()\r\n",
    "o.disp()\r\n",
    "o2=number()\r\n",
    "o2.disp()\r\n",
    "\r\n",
    "o3=number()\r\n",
    "\r\n",
    "o3=o+o2\r\n",
    "print(o3.play())"
   ],
   "outputs": [
    {
     "output_type": "stream",
     "name": "stdout",
     "text": [
      "(9, 14)\n"
     ]
    }
   ],
   "metadata": {}
  },
  {
   "cell_type": "code",
   "execution_count": null,
   "source": [],
   "outputs": [],
   "metadata": {}
  }
 ]
}