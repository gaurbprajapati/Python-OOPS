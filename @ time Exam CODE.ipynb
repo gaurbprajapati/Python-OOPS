{
    "cells": [
        {
            "cell_type": "code",
            "execution_count": 45,
            "source": [
                "class parent:\r\n",
                "    def __init__(self,n,roll):\r\n",
                "        print(\"Detail of student:--\")\r\n",
                "        self.n=n\r\n",
                "        self.roll=roll\r\n",
                "        # self.m1=0\r\n",
                "        # self.m2=0\r\n",
                "        self.m1=int(input())\r\n",
                "        self.m2=int(input())\r\n",
                "    def D(self):\r\n",
                "     \r\n",
                "        print(\"Name\",self.n)\r\n",
                "        print(\"Roll\",self.roll)\r\n",
                "        print(\"Parent 1 marks\",self.m1+self.m2)\r\n",
                "\r\n",
                "class  parent2:\r\n",
                "    def __init__(self,roll2) -> None:\r\n",
                "        print(\"parent 2------\")\r\n",
                "        self.roll2=roll2\r\n",
                "        # self.m3=0\r\n",
                "        # self.m4=0\r\n",
                "        self.m3=int(input())\r\n",
                "        self.m4=int(input())\r\n",
                "    def D2(self):\r\n",
                "        print(\"Rool 2----\",self.roll2)\r\n",
                "       \r\n",
                "        print(\"Parent 2 marks\",self.m4+self.m3)\r\n",
                "        \r\n",
                "\r\n",
                "class child(parent,parent2):\r\n",
                "    def __init__(self,n,roll,roll2):\r\n",
                "        parent.__init__(self,n,roll)\r\n",
                "        parent2.__init__(self,roll2)\r\n",
                "        print(\"Child class:----\")\r\n",
                "        print(\"Tollal rooll number:=====\",self.roll2+self.roll)\r\n",
                "        \r\n",
                "        print(\"Total marks of chilh class :---\",self.m4+self.m3+self.m1+self.m2)\r\n",
                "\r\n",
                "\r\n",
                "\r\n",
                "o = child(\"h\",88888,7)\r\n",
                "o.D()\r\n",
                "o.D2()\r\n"
            ],
            "outputs": [
                {
                    "output_type": "stream",
                    "name": "stdout",
                    "text": [
                        "Detail of student:--\n",
                        "parent 2------\n",
                        "Child class:----\n",
                        "Tollal rooll number:===== 88895\n",
                        "Total marks of chilh class :--- 10\n",
                        "Name h\n",
                        "Roll 88888\n",
                        "Parent 1 marks 3\n",
                        "Rool 2---- 7\n",
                        "Parent 2 marks 7\n"
                    ]
                }
            ],
            "metadata": {}
        },
        {
            "cell_type": "code",
            "execution_count": null,
            "source": [],
            "outputs": [],
            "metadata": {}
        }
    ],
    "metadata": {
        "orig_nbformat": 4,
        "language_info": {
            "name": "python",
            "version": "3.9.1",
            "mimetype": "text/x-python",
            "codemirror_mode": {
                "name": "ipython",
                "version": 3
            },
            "pygments_lexer": "ipython3",
            "nbconvert_exporter": "python",
            "file_extension": ".py"
        },
        "kernelspec": {
            "name": "python3",
            "display_name": "Python 3.9.1 64-bit"
        },
        "interpreter": {
            "hash": "64ed1da1f4be2165bc54c2fe6afcce1ac11341b9a0bdef4e54b6a0ca9c1fd8c6"
        }
    },
    "nbformat": 4,
    "nbformat_minor": 2
}