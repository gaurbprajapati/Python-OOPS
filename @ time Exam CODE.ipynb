{
    "cells": [
        {
            "cell_type": "code",
            "execution_count": 45,
            "metadata": {},
            "outputs": [
                {
                    "name": "stdout",
                    "output_type": "stream",
                    "text": [
                        "Detail of student:--\n",
                        "parent 2------\n",
                        "Child class:----\n",
                        "Tollal rooll number:===== 88895\n",
                        "Total marks of chilh class :--- 10\n",
                        "Name h\n",
                        "Roll 88888\n",
                        "Parent 1 marks 3\n",
                        "Rool 2---- 7\n",
                        "Parent 2 marks 7\n"
                    ]
                }
            ],
            "source": [
                "class parent:\n",
                "    def __init__(self,n,roll):\n",
                "        print(\"Detail of student:--\")\n",
                "        self.n=n\n",
                "        self.roll=roll\n",
                "        # self.m1=0\n",
                "        # self.m2=0\n",
                "        self.m1=int(input())\n",
                "        self.m2=int(input())\n",
                "    def D(self):\n",
                "     \n",
                "        print(\"Name\",self.n)\n",
                "        print(\"Roll\",self.roll)\n",
                "        print(\"Parent 1 marks\",self.m1+self.m2)\n",
                "\n",
                "class  parent2:\n",
                "    def __init__(self,roll2) -> None:\n",
                "        print(\"parent 2------\")\n",
                "        self.roll2=roll2\n",
                "        # self.m3=0\n",
                "        # self.m4=0\n",
                "        self.m3=int(input())\n",
                "        self.m4=int(input())\n",
                "    def D2(self):\n",
                "        print(\"Rool 2----\",self.roll2)\n",
                "       \n",
                "        print(\"Parent 2 marks\",self.m4+self.m3)\n",
                "        \n",
                "\n",
                "class child(parent,parent2):\n",
                "    def __init__(self,n,roll,roll2):\n",
                "        parent.__init__(self,n,roll)\n",
                "        parent2.__init__(self,roll2)\n",
                "        print(\"Child class:----\")\n",
                "        print(\"Tollal rooll number:=====\",self.roll2+self.roll)\n",
                "        \n",
                "        print(\"Total marks of chilh class :---\",self.m4+self.m3+self.m1+self.m2)\n",
                "\n",
                "\n",
                "\n",
                "o = child(\"h\",88888,7)\n",
                "o.D()\n",
                "o.D2()\n"
            ]
        },
        {
            "cell_type": "code",
            "execution_count": null,
            "metadata": {},
            "outputs": [],
            "source": []
        }
    ],
    "metadata": {
        "kernelspec": {
            "display_name": "Python 3",
            "language": "python",
            "name": "python3"
        },
        "language_info": {
            "codemirror_mode": {
                "name": "ipython",
                "version": 3
            },
            "file_extension": ".py",
            "mimetype": "text/x-python",
            "name": "python",
            "nbconvert_exporter": "python",
            "pygments_lexer": "ipython3",
            "version": "3.9.1 (tags/v3.9.1:1e5d33e, Dec  7 2020, 17:08:21) [MSC v.1927 64 bit (AMD64)]"
        },
        "orig_nbformat": 4,
        "vscode": {
            "interpreter": {
                "hash": "774bfae9a6486279c057f8f7c40ce72d7408c99b162a61fa72e696237f34197d"
            }
        }
    },
    "nbformat": 4,
    "nbformat_minor": 2
}
