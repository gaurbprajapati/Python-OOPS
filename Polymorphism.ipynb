{
 "metadata": {
  "language_info": {
   "codemirror_mode": {
    "name": "ipython",
    "version": 3
   },
   "file_extension": ".py",
   "mimetype": "text/x-python",
   "name": "python",
   "nbconvert_exporter": "python",
   "pygments_lexer": "ipython3",
   "version": "3.9.1"
  },
  "orig_nbformat": 2,
  "kernelspec": {
   "name": "python3",
   "display_name": "Python 3.9.1 64-bit"
  },
  "metadata": {
   "interpreter": {
    "hash": "64ed1da1f4be2165bc54c2fe6afcce1ac11341b9a0bdef4e54b6a0ca9c1fd8c6"
   }
  },
  "interpreter": {
   "hash": "64ed1da1f4be2165bc54c2fe6afcce1ac11341b9a0bdef4e54b6a0ca9c1fd8c6"
  }
 },
 "nbformat": 4,
 "nbformat_minor": 2,
 "cells": [
  {
   "cell_type": "code",
   "execution_count": 1,
   "source": [
    "#polymorphism duck typing\r\n",
    "\r\n",
    "class Duck:\r\n",
    "    def work(slef):\r\n",
    "        print(\"Duck walks Thapak thapak.\")\r\n",
    "\r\n",
    "class Horse:\r\n",
    "    def work(self):\r\n",
    "        print(\"Horse walks Tubdak tubdak tubak.\")\r\n",
    "def myfun(obj):\r\n",
    "    obj.work()\r\n",
    "\r\n",
    "d=Duck()\r\n",
    "myfun(d)\r\n",
    "f=Horse()\r\n",
    "myfun(f)"
   ],
   "outputs": [
    {
     "output_type": "stream",
     "name": "stdout",
     "text": [
      "Duck walks Thapak thapak.\n",
      "Horse walks Tubdak tubdak tubak.\n"
     ]
    }
   ],
   "metadata": {}
  },
  {
   "cell_type": "code",
   "execution_count": 9,
   "source": [
    "class Duck:\r\n",
    "    def work(slef):\r\n",
    "        print(\"Duck walks Thapak thapak.\")\r\n",
    "\r\n",
    "class Horse:\r\n",
    "    def work(self):\r\n",
    "        print(\"Horse walks Tubdak tubdak tubak.\")\r\n",
    "class Cat:\r\n",
    "    def talk(self):\r\n",
    "        print(\"MEow\")\r\n",
    "\r\n",
    "def myfun(obj):\r\n",
    "\r\n",
    "    obj.talk()\r\n",
    "    # obj.work()\r\n",
    "\r\n",
    "\r\n",
    "c=Cat()\r\n",
    "\r\n",
    "\r\n",
    "myfun(c)\r\n",
    "# h = Horse()\r\n",
    "# myfun(h)"
   ],
   "outputs": [
    {
     "output_type": "stream",
     "name": "stdout",
     "text": [
      "MEow\n"
     ]
    }
   ],
   "metadata": {}
  },
  {
   "cell_type": "code",
   "execution_count": 1,
   "source": [
    "l=[5,5,5]\r\n",
    "mx=set(l)\r\n",
    "print(len(mx))"
   ],
   "outputs": [
    {
     "output_type": "stream",
     "name": "stdout",
     "text": [
      "1\n"
     ]
    }
   ],
   "metadata": {}
  },
  {
   "cell_type": "code",
   "execution_count": 9,
   "source": [
    "#duck typeing\r\n",
    "\r\n",
    "class duck:\r\n",
    "    def walk(self):\r\n",
    "        print(\"duck works chapak chapak\")\r\n",
    "\r\n",
    "class hourse:\r\n",
    "    def walk(self):\r\n",
    "        print(\"Hourse walk tabdak tubdak\")\r\n",
    "\r\n",
    "# class dog:\r\n",
    "#     def talk(self):\r\n",
    "#         print(\"Bow BOw dog voice\")\r\n",
    "\r\n",
    "def myclass(o):\r\n",
    "    o.walk()\r\n",
    "    \r\n",
    "\r\n",
    "d=duck()\r\n",
    "myclass(d)\r\n",
    "\r\n",
    "h = hourse()\r\n",
    "myclass(h)\r\n",
    "\r\n",
    "# d=dog()\r\n",
    "# myclass(d)"
   ],
   "outputs": [
    {
     "output_type": "stream",
     "name": "stdout",
     "text": [
      "duck works chapak chapak\n",
      "Hourse walk tabdak tubdak\n"
     ]
    }
   ],
   "metadata": {}
  },
  {
   "cell_type": "markdown",
   "source": [
    "best example\r\n"
   ],
   "metadata": {}
  },
  {
   "cell_type": "code",
   "execution_count": 8,
   "source": [
    "#duck typeing\r\n",
    "\r\n",
    "#strong typeing\r\n",
    "\r\n",
    "#BEST AND COMPLETE EXAMPLE OF DUCK TYPING\r\n",
    "\r\n",
    "\r\n",
    "class duck:\r\n",
    "    def walk(self):\r\n",
    "        print(\"duck works chapak chapak\")\r\n",
    "\r\n",
    "class hourse:\r\n",
    "    def walk(self):\r\n",
    "        print(\"Hourse walk tabdak tubdak\")\r\n",
    "\r\n",
    "class dog:\r\n",
    "    def talk(self):\r\n",
    "        print(\"Bow BOw dog voice\")\r\n",
    "\r\n",
    "def myclass(o):\r\n",
    "    if hasattr(o,'walk'):\r\n",
    "        o.walk()\r\n",
    "    elif hasattr(o,'talk'):\r\n",
    "        o.talk()\r\n",
    "    \r\n",
    "\r\n",
    "d=duck()\r\n",
    "myclass(d)\r\n",
    "\r\n",
    "h = hourse()\r\n",
    "myclass(h)\r\n",
    "\r\n",
    "\r\n",
    "d=dog()\r\n",
    "myclass(d)"
   ],
   "outputs": [
    {
     "output_type": "stream",
     "name": "stdout",
     "text": [
      "duck works chapak chapak\n",
      "Hourse walk tabdak tubdak\n",
      "Bow BOw dog voice\n"
     ]
    }
   ],
   "metadata": {}
  },
  {
   "cell_type": "code",
   "execution_count": null,
   "source": [],
   "outputs": [],
   "metadata": {}
  }
 ]
}